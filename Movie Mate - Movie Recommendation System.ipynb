{
 "cells": [
  {
   "cell_type": "markdown",
   "id": "fdb2b13e-ee8e-449b-b38b-5a6a2f908b71",
   "metadata": {},
   "source": [
    "## Importing The Data"
   ]
  },
  {
   "cell_type": "code",
   "execution_count": 1,
   "id": "7dfe7fb4-4cfa-4e0b-8973-eb3e7b12a82b",
   "metadata": {},
   "outputs": [],
   "source": [
    "import numpy as np\n",
    "import pandas as pd "
   ]
  },
  {
   "cell_type": "code",
   "execution_count": 2,
   "id": "33242690-9460-4421-b31f-bab7b8e9b48f",
   "metadata": {},
   "outputs": [],
   "source": [
    "movies = pd.read_csv(\"tmdb_5000_movies.csv\")\n",
    "credits = pd.read_csv(\"tmdb_5000_credits.csv\")"
   ]
  },
  {
   "cell_type": "markdown",
   "id": "df490075-6275-4eee-9c96-5cbea5a6f855",
   "metadata": {},
   "source": [
    "## Understanding The Data"
   ]
  },
  {
   "cell_type": "code",
   "execution_count": 3,
   "id": "abf0c66c-2b88-4ab1-8214-79dec971466f",
   "metadata": {},
   "outputs": [
    {
     "data": {
      "text/plain": [
       "(4803, 20)"
      ]
     },
     "execution_count": 3,
     "metadata": {},
     "output_type": "execute_result"
    }
   ],
   "source": [
    "movies.shape"
   ]
  },
  {
   "cell_type": "code",
   "execution_count": 4,
   "id": "4452474a-5cf4-4154-ba04-943ceea6e57a",
   "metadata": {},
   "outputs": [
    {
     "data": {
      "text/html": [
       "<div>\n",
       "<style scoped>\n",
       "    .dataframe tbody tr th:only-of-type {\n",
       "        vertical-align: middle;\n",
       "    }\n",
       "\n",
       "    .dataframe tbody tr th {\n",
       "        vertical-align: top;\n",
       "    }\n",
       "\n",
       "    .dataframe thead th {\n",
       "        text-align: right;\n",
       "    }\n",
       "</style>\n",
       "<table border=\"1\" class=\"dataframe\">\n",
       "  <thead>\n",
       "    <tr style=\"text-align: right;\">\n",
       "      <th></th>\n",
       "      <th>budget</th>\n",
       "      <th>genres</th>\n",
       "      <th>homepage</th>\n",
       "      <th>id</th>\n",
       "      <th>keywords</th>\n",
       "      <th>original_language</th>\n",
       "      <th>original_title</th>\n",
       "      <th>overview</th>\n",
       "      <th>popularity</th>\n",
       "      <th>production_companies</th>\n",
       "      <th>production_countries</th>\n",
       "      <th>release_date</th>\n",
       "      <th>revenue</th>\n",
       "      <th>runtime</th>\n",
       "      <th>spoken_languages</th>\n",
       "      <th>status</th>\n",
       "      <th>tagline</th>\n",
       "      <th>title</th>\n",
       "      <th>vote_average</th>\n",
       "      <th>vote_count</th>\n",
       "    </tr>\n",
       "  </thead>\n",
       "  <tbody>\n",
       "    <tr>\n",
       "      <th>0</th>\n",
       "      <td>237000000</td>\n",
       "      <td>[{\"id\": 28, \"name\": \"Action\"}, {\"id\": 12, \"nam...</td>\n",
       "      <td>http://www.avatarmovie.com/</td>\n",
       "      <td>19995</td>\n",
       "      <td>[{\"id\": 1463, \"name\": \"culture clash\"}, {\"id\":...</td>\n",
       "      <td>en</td>\n",
       "      <td>Avatar</td>\n",
       "      <td>In the 22nd century, a paraplegic Marine is di...</td>\n",
       "      <td>150.437577</td>\n",
       "      <td>[{\"name\": \"Ingenious Film Partners\", \"id\": 289...</td>\n",
       "      <td>[{\"iso_3166_1\": \"US\", \"name\": \"United States o...</td>\n",
       "      <td>2009-12-10</td>\n",
       "      <td>2787965087</td>\n",
       "      <td>162.0</td>\n",
       "      <td>[{\"iso_639_1\": \"en\", \"name\": \"English\"}, {\"iso...</td>\n",
       "      <td>Released</td>\n",
       "      <td>Enter the World of Pandora.</td>\n",
       "      <td>Avatar</td>\n",
       "      <td>7.2</td>\n",
       "      <td>11800</td>\n",
       "    </tr>\n",
       "    <tr>\n",
       "      <th>1</th>\n",
       "      <td>300000000</td>\n",
       "      <td>[{\"id\": 12, \"name\": \"Adventure\"}, {\"id\": 14, \"...</td>\n",
       "      <td>http://disney.go.com/disneypictures/pirates/</td>\n",
       "      <td>285</td>\n",
       "      <td>[{\"id\": 270, \"name\": \"ocean\"}, {\"id\": 726, \"na...</td>\n",
       "      <td>en</td>\n",
       "      <td>Pirates of the Caribbean: At World's End</td>\n",
       "      <td>Captain Barbossa, long believed to be dead, ha...</td>\n",
       "      <td>139.082615</td>\n",
       "      <td>[{\"name\": \"Walt Disney Pictures\", \"id\": 2}, {\"...</td>\n",
       "      <td>[{\"iso_3166_1\": \"US\", \"name\": \"United States o...</td>\n",
       "      <td>2007-05-19</td>\n",
       "      <td>961000000</td>\n",
       "      <td>169.0</td>\n",
       "      <td>[{\"iso_639_1\": \"en\", \"name\": \"English\"}]</td>\n",
       "      <td>Released</td>\n",
       "      <td>At the end of the world, the adventure begins.</td>\n",
       "      <td>Pirates of the Caribbean: At World's End</td>\n",
       "      <td>6.9</td>\n",
       "      <td>4500</td>\n",
       "    </tr>\n",
       "    <tr>\n",
       "      <th>2</th>\n",
       "      <td>245000000</td>\n",
       "      <td>[{\"id\": 28, \"name\": \"Action\"}, {\"id\": 12, \"nam...</td>\n",
       "      <td>http://www.sonypictures.com/movies/spectre/</td>\n",
       "      <td>206647</td>\n",
       "      <td>[{\"id\": 470, \"name\": \"spy\"}, {\"id\": 818, \"name...</td>\n",
       "      <td>en</td>\n",
       "      <td>Spectre</td>\n",
       "      <td>A cryptic message from Bond’s past sends him o...</td>\n",
       "      <td>107.376788</td>\n",
       "      <td>[{\"name\": \"Columbia Pictures\", \"id\": 5}, {\"nam...</td>\n",
       "      <td>[{\"iso_3166_1\": \"GB\", \"name\": \"United Kingdom\"...</td>\n",
       "      <td>2015-10-26</td>\n",
       "      <td>880674609</td>\n",
       "      <td>148.0</td>\n",
       "      <td>[{\"iso_639_1\": \"fr\", \"name\": \"Fran\\u00e7ais\"},...</td>\n",
       "      <td>Released</td>\n",
       "      <td>A Plan No One Escapes</td>\n",
       "      <td>Spectre</td>\n",
       "      <td>6.3</td>\n",
       "      <td>4466</td>\n",
       "    </tr>\n",
       "    <tr>\n",
       "      <th>3</th>\n",
       "      <td>250000000</td>\n",
       "      <td>[{\"id\": 28, \"name\": \"Action\"}, {\"id\": 80, \"nam...</td>\n",
       "      <td>http://www.thedarkknightrises.com/</td>\n",
       "      <td>49026</td>\n",
       "      <td>[{\"id\": 849, \"name\": \"dc comics\"}, {\"id\": 853,...</td>\n",
       "      <td>en</td>\n",
       "      <td>The Dark Knight Rises</td>\n",
       "      <td>Following the death of District Attorney Harve...</td>\n",
       "      <td>112.312950</td>\n",
       "      <td>[{\"name\": \"Legendary Pictures\", \"id\": 923}, {\"...</td>\n",
       "      <td>[{\"iso_3166_1\": \"US\", \"name\": \"United States o...</td>\n",
       "      <td>2012-07-16</td>\n",
       "      <td>1084939099</td>\n",
       "      <td>165.0</td>\n",
       "      <td>[{\"iso_639_1\": \"en\", \"name\": \"English\"}]</td>\n",
       "      <td>Released</td>\n",
       "      <td>The Legend Ends</td>\n",
       "      <td>The Dark Knight Rises</td>\n",
       "      <td>7.6</td>\n",
       "      <td>9106</td>\n",
       "    </tr>\n",
       "    <tr>\n",
       "      <th>4</th>\n",
       "      <td>260000000</td>\n",
       "      <td>[{\"id\": 28, \"name\": \"Action\"}, {\"id\": 12, \"nam...</td>\n",
       "      <td>http://movies.disney.com/john-carter</td>\n",
       "      <td>49529</td>\n",
       "      <td>[{\"id\": 818, \"name\": \"based on novel\"}, {\"id\":...</td>\n",
       "      <td>en</td>\n",
       "      <td>John Carter</td>\n",
       "      <td>John Carter is a war-weary, former military ca...</td>\n",
       "      <td>43.926995</td>\n",
       "      <td>[{\"name\": \"Walt Disney Pictures\", \"id\": 2}]</td>\n",
       "      <td>[{\"iso_3166_1\": \"US\", \"name\": \"United States o...</td>\n",
       "      <td>2012-03-07</td>\n",
       "      <td>284139100</td>\n",
       "      <td>132.0</td>\n",
       "      <td>[{\"iso_639_1\": \"en\", \"name\": \"English\"}]</td>\n",
       "      <td>Released</td>\n",
       "      <td>Lost in our world, found in another.</td>\n",
       "      <td>John Carter</td>\n",
       "      <td>6.1</td>\n",
       "      <td>2124</td>\n",
       "    </tr>\n",
       "  </tbody>\n",
       "</table>\n",
       "</div>"
      ],
      "text/plain": [
       "      budget                                             genres  \\\n",
       "0  237000000  [{\"id\": 28, \"name\": \"Action\"}, {\"id\": 12, \"nam...   \n",
       "1  300000000  [{\"id\": 12, \"name\": \"Adventure\"}, {\"id\": 14, \"...   \n",
       "2  245000000  [{\"id\": 28, \"name\": \"Action\"}, {\"id\": 12, \"nam...   \n",
       "3  250000000  [{\"id\": 28, \"name\": \"Action\"}, {\"id\": 80, \"nam...   \n",
       "4  260000000  [{\"id\": 28, \"name\": \"Action\"}, {\"id\": 12, \"nam...   \n",
       "\n",
       "                                       homepage      id  \\\n",
       "0                   http://www.avatarmovie.com/   19995   \n",
       "1  http://disney.go.com/disneypictures/pirates/     285   \n",
       "2   http://www.sonypictures.com/movies/spectre/  206647   \n",
       "3            http://www.thedarkknightrises.com/   49026   \n",
       "4          http://movies.disney.com/john-carter   49529   \n",
       "\n",
       "                                            keywords original_language  \\\n",
       "0  [{\"id\": 1463, \"name\": \"culture clash\"}, {\"id\":...                en   \n",
       "1  [{\"id\": 270, \"name\": \"ocean\"}, {\"id\": 726, \"na...                en   \n",
       "2  [{\"id\": 470, \"name\": \"spy\"}, {\"id\": 818, \"name...                en   \n",
       "3  [{\"id\": 849, \"name\": \"dc comics\"}, {\"id\": 853,...                en   \n",
       "4  [{\"id\": 818, \"name\": \"based on novel\"}, {\"id\":...                en   \n",
       "\n",
       "                             original_title  \\\n",
       "0                                    Avatar   \n",
       "1  Pirates of the Caribbean: At World's End   \n",
       "2                                   Spectre   \n",
       "3                     The Dark Knight Rises   \n",
       "4                               John Carter   \n",
       "\n",
       "                                            overview  popularity  \\\n",
       "0  In the 22nd century, a paraplegic Marine is di...  150.437577   \n",
       "1  Captain Barbossa, long believed to be dead, ha...  139.082615   \n",
       "2  A cryptic message from Bond’s past sends him o...  107.376788   \n",
       "3  Following the death of District Attorney Harve...  112.312950   \n",
       "4  John Carter is a war-weary, former military ca...   43.926995   \n",
       "\n",
       "                                production_companies  \\\n",
       "0  [{\"name\": \"Ingenious Film Partners\", \"id\": 289...   \n",
       "1  [{\"name\": \"Walt Disney Pictures\", \"id\": 2}, {\"...   \n",
       "2  [{\"name\": \"Columbia Pictures\", \"id\": 5}, {\"nam...   \n",
       "3  [{\"name\": \"Legendary Pictures\", \"id\": 923}, {\"...   \n",
       "4        [{\"name\": \"Walt Disney Pictures\", \"id\": 2}]   \n",
       "\n",
       "                                production_countries release_date     revenue  \\\n",
       "0  [{\"iso_3166_1\": \"US\", \"name\": \"United States o...   2009-12-10  2787965087   \n",
       "1  [{\"iso_3166_1\": \"US\", \"name\": \"United States o...   2007-05-19   961000000   \n",
       "2  [{\"iso_3166_1\": \"GB\", \"name\": \"United Kingdom\"...   2015-10-26   880674609   \n",
       "3  [{\"iso_3166_1\": \"US\", \"name\": \"United States o...   2012-07-16  1084939099   \n",
       "4  [{\"iso_3166_1\": \"US\", \"name\": \"United States o...   2012-03-07   284139100   \n",
       "\n",
       "   runtime                                   spoken_languages    status  \\\n",
       "0    162.0  [{\"iso_639_1\": \"en\", \"name\": \"English\"}, {\"iso...  Released   \n",
       "1    169.0           [{\"iso_639_1\": \"en\", \"name\": \"English\"}]  Released   \n",
       "2    148.0  [{\"iso_639_1\": \"fr\", \"name\": \"Fran\\u00e7ais\"},...  Released   \n",
       "3    165.0           [{\"iso_639_1\": \"en\", \"name\": \"English\"}]  Released   \n",
       "4    132.0           [{\"iso_639_1\": \"en\", \"name\": \"English\"}]  Released   \n",
       "\n",
       "                                          tagline  \\\n",
       "0                     Enter the World of Pandora.   \n",
       "1  At the end of the world, the adventure begins.   \n",
       "2                           A Plan No One Escapes   \n",
       "3                                 The Legend Ends   \n",
       "4            Lost in our world, found in another.   \n",
       "\n",
       "                                      title  vote_average  vote_count  \n",
       "0                                    Avatar           7.2       11800  \n",
       "1  Pirates of the Caribbean: At World's End           6.9        4500  \n",
       "2                                   Spectre           6.3        4466  \n",
       "3                     The Dark Knight Rises           7.6        9106  \n",
       "4                               John Carter           6.1        2124  "
      ]
     },
     "execution_count": 4,
     "metadata": {},
     "output_type": "execute_result"
    }
   ],
   "source": [
    "movies.head()"
   ]
  },
  {
   "cell_type": "markdown",
   "id": "493bd33a-a72c-4828-926f-4d8c42bdc0d9",
   "metadata": {},
   "source": [
    "## Merging The Two Datasets Into One"
   ]
  },
  {
   "cell_type": "code",
   "execution_count": 5,
   "id": "f73f90cc-0cc9-40a2-ab52-4da6078341c6",
   "metadata": {},
   "outputs": [
    {
     "data": {
      "text/plain": [
       "(4803, 4)"
      ]
     },
     "execution_count": 5,
     "metadata": {},
     "output_type": "execute_result"
    }
   ],
   "source": [
    "credits.shape"
   ]
  },
  {
   "cell_type": "code",
   "execution_count": 6,
   "id": "624415e9-a93d-4dc8-a2fe-3dff1a4059fa",
   "metadata": {},
   "outputs": [
    {
     "data": {
      "text/html": [
       "<div>\n",
       "<style scoped>\n",
       "    .dataframe tbody tr th:only-of-type {\n",
       "        vertical-align: middle;\n",
       "    }\n",
       "\n",
       "    .dataframe tbody tr th {\n",
       "        vertical-align: top;\n",
       "    }\n",
       "\n",
       "    .dataframe thead th {\n",
       "        text-align: right;\n",
       "    }\n",
       "</style>\n",
       "<table border=\"1\" class=\"dataframe\">\n",
       "  <thead>\n",
       "    <tr style=\"text-align: right;\">\n",
       "      <th></th>\n",
       "      <th>movie_id</th>\n",
       "      <th>title</th>\n",
       "      <th>cast</th>\n",
       "      <th>crew</th>\n",
       "    </tr>\n",
       "  </thead>\n",
       "  <tbody>\n",
       "    <tr>\n",
       "      <th>0</th>\n",
       "      <td>19995</td>\n",
       "      <td>Avatar</td>\n",
       "      <td>[{\"cast_id\": 242, \"character\": \"Jake Sully\", \"...</td>\n",
       "      <td>[{\"credit_id\": \"52fe48009251416c750aca23\", \"de...</td>\n",
       "    </tr>\n",
       "    <tr>\n",
       "      <th>1</th>\n",
       "      <td>285</td>\n",
       "      <td>Pirates of the Caribbean: At World's End</td>\n",
       "      <td>[{\"cast_id\": 4, \"character\": \"Captain Jack Spa...</td>\n",
       "      <td>[{\"credit_id\": \"52fe4232c3a36847f800b579\", \"de...</td>\n",
       "    </tr>\n",
       "    <tr>\n",
       "      <th>2</th>\n",
       "      <td>206647</td>\n",
       "      <td>Spectre</td>\n",
       "      <td>[{\"cast_id\": 1, \"character\": \"James Bond\", \"cr...</td>\n",
       "      <td>[{\"credit_id\": \"54805967c3a36829b5002c41\", \"de...</td>\n",
       "    </tr>\n",
       "    <tr>\n",
       "      <th>3</th>\n",
       "      <td>49026</td>\n",
       "      <td>The Dark Knight Rises</td>\n",
       "      <td>[{\"cast_id\": 2, \"character\": \"Bruce Wayne / Ba...</td>\n",
       "      <td>[{\"credit_id\": \"52fe4781c3a36847f81398c3\", \"de...</td>\n",
       "    </tr>\n",
       "    <tr>\n",
       "      <th>4</th>\n",
       "      <td>49529</td>\n",
       "      <td>John Carter</td>\n",
       "      <td>[{\"cast_id\": 5, \"character\": \"John Carter\", \"c...</td>\n",
       "      <td>[{\"credit_id\": \"52fe479ac3a36847f813eaa3\", \"de...</td>\n",
       "    </tr>\n",
       "  </tbody>\n",
       "</table>\n",
       "</div>"
      ],
      "text/plain": [
       "   movie_id                                     title  \\\n",
       "0     19995                                    Avatar   \n",
       "1       285  Pirates of the Caribbean: At World's End   \n",
       "2    206647                                   Spectre   \n",
       "3     49026                     The Dark Knight Rises   \n",
       "4     49529                               John Carter   \n",
       "\n",
       "                                                cast  \\\n",
       "0  [{\"cast_id\": 242, \"character\": \"Jake Sully\", \"...   \n",
       "1  [{\"cast_id\": 4, \"character\": \"Captain Jack Spa...   \n",
       "2  [{\"cast_id\": 1, \"character\": \"James Bond\", \"cr...   \n",
       "3  [{\"cast_id\": 2, \"character\": \"Bruce Wayne / Ba...   \n",
       "4  [{\"cast_id\": 5, \"character\": \"John Carter\", \"c...   \n",
       "\n",
       "                                                crew  \n",
       "0  [{\"credit_id\": \"52fe48009251416c750aca23\", \"de...  \n",
       "1  [{\"credit_id\": \"52fe4232c3a36847f800b579\", \"de...  \n",
       "2  [{\"credit_id\": \"54805967c3a36829b5002c41\", \"de...  \n",
       "3  [{\"credit_id\": \"52fe4781c3a36847f81398c3\", \"de...  \n",
       "4  [{\"credit_id\": \"52fe479ac3a36847f813eaa3\", \"de...  "
      ]
     },
     "execution_count": 6,
     "metadata": {},
     "output_type": "execute_result"
    }
   ],
   "source": [
    "credits.head()"
   ]
  },
  {
   "cell_type": "markdown",
   "id": "ff3e30d8-dbc9-4a7e-8bb0-9f891d0ad2f1",
   "metadata": {},
   "source": [
    "We can either merge on the basis of movie id or movie tittle. Here we are merging the two datasets on the basis of tittle."
   ]
  },
  {
   "cell_type": "code",
   "execution_count": 7,
   "id": "d8a17577-54d4-4c1d-900d-44c63ab3fb88",
   "metadata": {},
   "outputs": [
    {
     "data": {
      "text/plain": [
       "(4809, 23)"
      ]
     },
     "execution_count": 7,
     "metadata": {},
     "output_type": "execute_result"
    }
   ],
   "source": [
    "movies.merge(credits, on='title').shape"
   ]
  },
  {
   "cell_type": "code",
   "execution_count": 8,
   "id": "d973876c-f981-48d1-8a08-c81904b830ba",
   "metadata": {},
   "outputs": [],
   "source": [
    "movies =movies.merge(credits, on='title')"
   ]
  },
  {
   "cell_type": "code",
   "execution_count": 9,
   "id": "b1a0449a-a037-44af-bf38-bf619c7ee87e",
   "metadata": {},
   "outputs": [
    {
     "name": "stdout",
     "output_type": "stream",
     "text": [
      "<class 'pandas.core.frame.DataFrame'>\n",
      "RangeIndex: 4809 entries, 0 to 4808\n",
      "Data columns (total 23 columns):\n",
      " #   Column                Non-Null Count  Dtype  \n",
      "---  ------                --------------  -----  \n",
      " 0   budget                4809 non-null   int64  \n",
      " 1   genres                4809 non-null   object \n",
      " 2   homepage              1713 non-null   object \n",
      " 3   id                    4809 non-null   int64  \n",
      " 4   keywords              4809 non-null   object \n",
      " 5   original_language     4809 non-null   object \n",
      " 6   original_title        4809 non-null   object \n",
      " 7   overview              4806 non-null   object \n",
      " 8   popularity            4809 non-null   float64\n",
      " 9   production_companies  4809 non-null   object \n",
      " 10  production_countries  4809 non-null   object \n",
      " 11  release_date          4808 non-null   object \n",
      " 12  revenue               4809 non-null   int64  \n",
      " 13  runtime               4807 non-null   float64\n",
      " 14  spoken_languages      4809 non-null   object \n",
      " 15  status                4809 non-null   object \n",
      " 16  tagline               3965 non-null   object \n",
      " 17  title                 4809 non-null   object \n",
      " 18  vote_average          4809 non-null   float64\n",
      " 19  vote_count            4809 non-null   int64  \n",
      " 20  movie_id              4809 non-null   int64  \n",
      " 21  cast                  4809 non-null   object \n",
      " 22  crew                  4809 non-null   object \n",
      "dtypes: float64(3), int64(5), object(15)\n",
      "memory usage: 864.2+ KB\n"
     ]
    }
   ],
   "source": [
    "movies.info()"
   ]
  },
  {
   "cell_type": "markdown",
   "id": "f6ce6b7b-cb9d-4a25-a66c-8d78de211172",
   "metadata": {},
   "source": [
    "## Cleaning The Data"
   ]
  },
  {
   "cell_type": "markdown",
   "id": "24ac4c23-e2e7-4fd4-bafa-3c2c189704bc",
   "metadata": {},
   "source": [
    "The coloumns we will keep which will help us create tags for recommendation are the following:\n",
    "\n",
    "1) genres\n",
    "2) id\n",
    "3) keywords\n",
    "4) title\n",
    "5) overview\n",
    "6) cast\n",
    "7) crew"
   ]
  },
  {
   "cell_type": "code",
   "execution_count": 10,
   "id": "23ad125d-4f73-4c4f-b12d-de8a1740207d",
   "metadata": {},
   "outputs": [],
   "source": [
    "movies = movies[['movie_id','title','overview','genres','keywords','cast','crew']]"
   ]
  },
  {
   "cell_type": "code",
   "execution_count": 11,
   "id": "e461144b-bba9-4a5a-941c-6830af286e1f",
   "metadata": {},
   "outputs": [
    {
     "name": "stdout",
     "output_type": "stream",
     "text": [
      "<class 'pandas.core.frame.DataFrame'>\n",
      "RangeIndex: 4809 entries, 0 to 4808\n",
      "Data columns (total 7 columns):\n",
      " #   Column    Non-Null Count  Dtype \n",
      "---  ------    --------------  ----- \n",
      " 0   movie_id  4809 non-null   int64 \n",
      " 1   title     4809 non-null   object\n",
      " 2   overview  4806 non-null   object\n",
      " 3   genres    4809 non-null   object\n",
      " 4   keywords  4809 non-null   object\n",
      " 5   cast      4809 non-null   object\n",
      " 6   crew      4809 non-null   object\n",
      "dtypes: int64(1), object(6)\n",
      "memory usage: 263.1+ KB\n"
     ]
    }
   ],
   "source": [
    "movies.info()"
   ]
  },
  {
   "cell_type": "code",
   "execution_count": 12,
   "id": "d8e1a01f-ff2f-4e7d-99b4-198101bdaf93",
   "metadata": {},
   "outputs": [
    {
     "data": {
      "text/html": [
       "<div>\n",
       "<style scoped>\n",
       "    .dataframe tbody tr th:only-of-type {\n",
       "        vertical-align: middle;\n",
       "    }\n",
       "\n",
       "    .dataframe tbody tr th {\n",
       "        vertical-align: top;\n",
       "    }\n",
       "\n",
       "    .dataframe thead th {\n",
       "        text-align: right;\n",
       "    }\n",
       "</style>\n",
       "<table border=\"1\" class=\"dataframe\">\n",
       "  <thead>\n",
       "    <tr style=\"text-align: right;\">\n",
       "      <th></th>\n",
       "      <th>movie_id</th>\n",
       "      <th>title</th>\n",
       "      <th>overview</th>\n",
       "      <th>genres</th>\n",
       "      <th>keywords</th>\n",
       "      <th>cast</th>\n",
       "      <th>crew</th>\n",
       "    </tr>\n",
       "  </thead>\n",
       "  <tbody>\n",
       "    <tr>\n",
       "      <th>0</th>\n",
       "      <td>19995</td>\n",
       "      <td>Avatar</td>\n",
       "      <td>In the 22nd century, a paraplegic Marine is di...</td>\n",
       "      <td>[{\"id\": 28, \"name\": \"Action\"}, {\"id\": 12, \"nam...</td>\n",
       "      <td>[{\"id\": 1463, \"name\": \"culture clash\"}, {\"id\":...</td>\n",
       "      <td>[{\"cast_id\": 242, \"character\": \"Jake Sully\", \"...</td>\n",
       "      <td>[{\"credit_id\": \"52fe48009251416c750aca23\", \"de...</td>\n",
       "    </tr>\n",
       "    <tr>\n",
       "      <th>1</th>\n",
       "      <td>285</td>\n",
       "      <td>Pirates of the Caribbean: At World's End</td>\n",
       "      <td>Captain Barbossa, long believed to be dead, ha...</td>\n",
       "      <td>[{\"id\": 12, \"name\": \"Adventure\"}, {\"id\": 14, \"...</td>\n",
       "      <td>[{\"id\": 270, \"name\": \"ocean\"}, {\"id\": 726, \"na...</td>\n",
       "      <td>[{\"cast_id\": 4, \"character\": \"Captain Jack Spa...</td>\n",
       "      <td>[{\"credit_id\": \"52fe4232c3a36847f800b579\", \"de...</td>\n",
       "    </tr>\n",
       "    <tr>\n",
       "      <th>2</th>\n",
       "      <td>206647</td>\n",
       "      <td>Spectre</td>\n",
       "      <td>A cryptic message from Bond’s past sends him o...</td>\n",
       "      <td>[{\"id\": 28, \"name\": \"Action\"}, {\"id\": 12, \"nam...</td>\n",
       "      <td>[{\"id\": 470, \"name\": \"spy\"}, {\"id\": 818, \"name...</td>\n",
       "      <td>[{\"cast_id\": 1, \"character\": \"James Bond\", \"cr...</td>\n",
       "      <td>[{\"credit_id\": \"54805967c3a36829b5002c41\", \"de...</td>\n",
       "    </tr>\n",
       "    <tr>\n",
       "      <th>3</th>\n",
       "      <td>49026</td>\n",
       "      <td>The Dark Knight Rises</td>\n",
       "      <td>Following the death of District Attorney Harve...</td>\n",
       "      <td>[{\"id\": 28, \"name\": \"Action\"}, {\"id\": 80, \"nam...</td>\n",
       "      <td>[{\"id\": 849, \"name\": \"dc comics\"}, {\"id\": 853,...</td>\n",
       "      <td>[{\"cast_id\": 2, \"character\": \"Bruce Wayne / Ba...</td>\n",
       "      <td>[{\"credit_id\": \"52fe4781c3a36847f81398c3\", \"de...</td>\n",
       "    </tr>\n",
       "    <tr>\n",
       "      <th>4</th>\n",
       "      <td>49529</td>\n",
       "      <td>John Carter</td>\n",
       "      <td>John Carter is a war-weary, former military ca...</td>\n",
       "      <td>[{\"id\": 28, \"name\": \"Action\"}, {\"id\": 12, \"nam...</td>\n",
       "      <td>[{\"id\": 818, \"name\": \"based on novel\"}, {\"id\":...</td>\n",
       "      <td>[{\"cast_id\": 5, \"character\": \"John Carter\", \"c...</td>\n",
       "      <td>[{\"credit_id\": \"52fe479ac3a36847f813eaa3\", \"de...</td>\n",
       "    </tr>\n",
       "  </tbody>\n",
       "</table>\n",
       "</div>"
      ],
      "text/plain": [
       "   movie_id                                     title  \\\n",
       "0     19995                                    Avatar   \n",
       "1       285  Pirates of the Caribbean: At World's End   \n",
       "2    206647                                   Spectre   \n",
       "3     49026                     The Dark Knight Rises   \n",
       "4     49529                               John Carter   \n",
       "\n",
       "                                            overview  \\\n",
       "0  In the 22nd century, a paraplegic Marine is di...   \n",
       "1  Captain Barbossa, long believed to be dead, ha...   \n",
       "2  A cryptic message from Bond’s past sends him o...   \n",
       "3  Following the death of District Attorney Harve...   \n",
       "4  John Carter is a war-weary, former military ca...   \n",
       "\n",
       "                                              genres  \\\n",
       "0  [{\"id\": 28, \"name\": \"Action\"}, {\"id\": 12, \"nam...   \n",
       "1  [{\"id\": 12, \"name\": \"Adventure\"}, {\"id\": 14, \"...   \n",
       "2  [{\"id\": 28, \"name\": \"Action\"}, {\"id\": 12, \"nam...   \n",
       "3  [{\"id\": 28, \"name\": \"Action\"}, {\"id\": 80, \"nam...   \n",
       "4  [{\"id\": 28, \"name\": \"Action\"}, {\"id\": 12, \"nam...   \n",
       "\n",
       "                                            keywords  \\\n",
       "0  [{\"id\": 1463, \"name\": \"culture clash\"}, {\"id\":...   \n",
       "1  [{\"id\": 270, \"name\": \"ocean\"}, {\"id\": 726, \"na...   \n",
       "2  [{\"id\": 470, \"name\": \"spy\"}, {\"id\": 818, \"name...   \n",
       "3  [{\"id\": 849, \"name\": \"dc comics\"}, {\"id\": 853,...   \n",
       "4  [{\"id\": 818, \"name\": \"based on novel\"}, {\"id\":...   \n",
       "\n",
       "                                                cast  \\\n",
       "0  [{\"cast_id\": 242, \"character\": \"Jake Sully\", \"...   \n",
       "1  [{\"cast_id\": 4, \"character\": \"Captain Jack Spa...   \n",
       "2  [{\"cast_id\": 1, \"character\": \"James Bond\", \"cr...   \n",
       "3  [{\"cast_id\": 2, \"character\": \"Bruce Wayne / Ba...   \n",
       "4  [{\"cast_id\": 5, \"character\": \"John Carter\", \"c...   \n",
       "\n",
       "                                                crew  \n",
       "0  [{\"credit_id\": \"52fe48009251416c750aca23\", \"de...  \n",
       "1  [{\"credit_id\": \"52fe4232c3a36847f800b579\", \"de...  \n",
       "2  [{\"credit_id\": \"54805967c3a36829b5002c41\", \"de...  \n",
       "3  [{\"credit_id\": \"52fe4781c3a36847f81398c3\", \"de...  \n",
       "4  [{\"credit_id\": \"52fe479ac3a36847f813eaa3\", \"de...  "
      ]
     },
     "execution_count": 12,
     "metadata": {},
     "output_type": "execute_result"
    }
   ],
   "source": [
    "movies.head()"
   ]
  },
  {
   "cell_type": "markdown",
   "id": "c4c87fbf-87ed-45d7-8d9b-dd33520edbde",
   "metadata": {},
   "source": [
    "Now we want three coloumns only that is : movie_id, title, tags.\n",
    "How do we create the third coloumn?\n",
    "We can do that by merging \n",
    "overview, genre, keyword, cast and crew "
   ]
  },
  {
   "cell_type": "code",
   "execution_count": 13,
   "id": "512527a1-96c5-40af-8294-8e1bdfc94c85",
   "metadata": {},
   "outputs": [
    {
     "data": {
      "text/plain": [
       "(4809, 7)"
      ]
     },
     "execution_count": 13,
     "metadata": {},
     "output_type": "execute_result"
    }
   ],
   "source": [
    "movies.shape"
   ]
  },
  {
   "cell_type": "code",
   "execution_count": 14,
   "id": "e792bbd7-8bde-4ae9-b6e3-405394f67340",
   "metadata": {},
   "outputs": [
    {
     "data": {
      "text/plain": [
       "movie_id    0\n",
       "title       0\n",
       "overview    3\n",
       "genres      0\n",
       "keywords    0\n",
       "cast        0\n",
       "crew        0\n",
       "dtype: int64"
      ]
     },
     "execution_count": 14,
     "metadata": {},
     "output_type": "execute_result"
    }
   ],
   "source": [
    "movies.isna().sum()"
   ]
  },
  {
   "cell_type": "code",
   "execution_count": 15,
   "id": "f2f1bcf9-882d-46b6-b279-95c686c1883e",
   "metadata": {},
   "outputs": [],
   "source": [
    "movies.dropna(inplace=True)"
   ]
  },
  {
   "cell_type": "code",
   "execution_count": 16,
   "id": "db27c421-a4d9-484b-a284-2af243dc7674",
   "metadata": {},
   "outputs": [
    {
     "data": {
      "text/plain": [
       "0"
      ]
     },
     "execution_count": 16,
     "metadata": {},
     "output_type": "execute_result"
    }
   ],
   "source": [
    "movies.duplicated().sum() #looking for the total number of duplicates"
   ]
  },
  {
   "cell_type": "code",
   "execution_count": 17,
   "id": "748462a6-0da2-4f59-a64c-29c0770de73e",
   "metadata": {},
   "outputs": [
    {
     "data": {
      "text/plain": [
       "'[{\"id\": 28, \"name\": \"Action\"}, {\"id\": 12, \"name\": \"Adventure\"}, {\"id\": 14, \"name\": \"Fantasy\"}, {\"id\": 878, \"name\": \"Science Fiction\"}]'"
      ]
     },
     "execution_count": 17,
     "metadata": {},
     "output_type": "execute_result"
    }
   ],
   "source": [
    "movies.iloc[0].genres"
   ]
  },
  {
   "cell_type": "code",
   "execution_count": 18,
   "id": "82e8dfd4-bfe7-4f0f-bfbd-c1462c446d7a",
   "metadata": {},
   "outputs": [
    {
     "data": {
      "text/plain": [
       "'\\nThe items in the genre column are in this format that is a list of dictionaries\\n\\'[{\"id\": 28, \"name\": \"Action\"}, {\"id\": 12, \"name\": \"Adventure\"}, {\"id\": 14, \"name\": \"Fantasy\"}, {\"id\": 878, \"name\": \"Science Fiction\"}]\\'\\nWe want to change this and make it look the following manner:\\n[\\'Action\\', \\'Adventure\\',\\'Fantasy\\',\\'Science Fiction\\']\\n'"
      ]
     },
     "execution_count": 18,
     "metadata": {},
     "output_type": "execute_result"
    }
   ],
   "source": [
    "'''\n",
    "The items in the genre column are in this format that is a list of dictionaries\n",
    "'[{\"id\": 28, \"name\": \"Action\"}, {\"id\": 12, \"name\": \"Adventure\"}, {\"id\": 14, \"name\": \"Fantasy\"}, {\"id\": 878, \"name\": \"Science Fiction\"}]'\n",
    "We want to change this and make it look the following manner:\n",
    "['Action', 'Adventure','Fantasy','Science Fiction']\n",
    "'''"
   ]
  },
  {
   "cell_type": "markdown",
   "id": "993e8b9e-3257-4dde-bb9a-0b1328936c9b",
   "metadata": {},
   "source": [
    "We want to convert the list of dictionaries which is in string format (Genres coloumn has data stored in this way) to list format.\n",
    "there is a module in python called ast and there is a functon in it called literal_eval which does exacty this job."
   ]
  },
  {
   "cell_type": "code",
   "execution_count": 19,
   "id": "9ae7c7e8-95f9-4736-9a94-7c0a4a0420f3",
   "metadata": {},
   "outputs": [
    {
     "data": {
      "text/plain": [
       "[{'id': 28, 'name': 'Action'},\n",
       " {'id': 12, 'name': 'Adventure'},\n",
       " {'id': 14, 'name': 'Fantasy'},\n",
       " {'id': 878, 'name': 'Science Fiction'}]"
      ]
     },
     "execution_count": 19,
     "metadata": {},
     "output_type": "execute_result"
    }
   ],
   "source": [
    "import ast\n",
    "ast.literal_eval('[{\"id\": 28, \"name\": \"Action\"}, {\"id\": 12, \"name\": \"Adventure\"}, {\"id\": 14, \"name\": \"Fantasy\"}, {\"id\": 878, \"name\": \"Science Fiction\"}]')"
   ]
  },
  {
   "cell_type": "code",
   "execution_count": 20,
   "id": "02464649-15ad-4c79-89e6-3ee88e50ef7e",
   "metadata": {},
   "outputs": [],
   "source": [
    "def convert(obj):\n",
    "    L=[]\n",
    "    for i in ast.literal_eval(obj): # Here we are converting the string of list of dictionaries to a list of dictionaries we are removing the ' '\n",
    "        L.append(i['name'])\n",
    "    return L"
   ]
  },
  {
   "cell_type": "code",
   "execution_count": 21,
   "id": "01620434-cf9d-44bc-a497-daea6ce84afa",
   "metadata": {},
   "outputs": [
    {
     "data": {
      "text/plain": [
       "0       [Action, Adventure, Fantasy, Science Fiction]\n",
       "1                        [Adventure, Fantasy, Action]\n",
       "2                          [Action, Adventure, Crime]\n",
       "3                    [Action, Crime, Drama, Thriller]\n",
       "4                [Action, Adventure, Science Fiction]\n",
       "                            ...                      \n",
       "4804                        [Action, Crime, Thriller]\n",
       "4805                                [Comedy, Romance]\n",
       "4806               [Comedy, Drama, Romance, TV Movie]\n",
       "4807                                               []\n",
       "4808                                    [Documentary]\n",
       "Name: genres, Length: 4806, dtype: object"
      ]
     },
     "execution_count": 21,
     "metadata": {},
     "output_type": "execute_result"
    }
   ],
   "source": [
    "movies['genres'].apply(convert)         # Here we applying the user defined convert function we made to genres coloumn"
   ]
  },
  {
   "cell_type": "code",
   "execution_count": 22,
   "id": "b8041a32-47b2-49dd-8199-ceab7054cd0a",
   "metadata": {},
   "outputs": [],
   "source": [
    "movies['genres'] = movies['genres'].apply(convert)"
   ]
  },
  {
   "cell_type": "code",
   "execution_count": 23,
   "id": "b3646ddc-6ffd-4ff5-9455-aa9b4eb4d239",
   "metadata": {},
   "outputs": [
    {
     "data": {
      "text/plain": [
       "0       [culture clash, future, space war, space colon...\n",
       "1       [ocean, drug abuse, exotic island, east india ...\n",
       "2       [spy, based on novel, secret agent, sequel, mi...\n",
       "3       [dc comics, crime fighter, terrorist, secret i...\n",
       "4       [based on novel, mars, medallion, space travel...\n",
       "                              ...                        \n",
       "4804    [united states–mexico barrier, legs, arms, pap...\n",
       "4805                                                   []\n",
       "4806    [date, love at first sight, narration, investi...\n",
       "4807                                                   []\n",
       "4808            [obsession, camcorder, crush, dream girl]\n",
       "Name: keywords, Length: 4806, dtype: object"
      ]
     },
     "execution_count": 23,
     "metadata": {},
     "output_type": "execute_result"
    }
   ],
   "source": [
    "movies['keywords'].apply(convert)"
   ]
  },
  {
   "cell_type": "code",
   "execution_count": 24,
   "id": "54fa0ec5-714d-407e-b9ef-5f6ffcf3a097",
   "metadata": {},
   "outputs": [],
   "source": [
    "movies['keywords'] = movies['keywords'].apply(convert)"
   ]
  },
  {
   "cell_type": "code",
   "execution_count": 25,
   "id": "549f2fce-14e7-47c6-a46e-a12bddb21e93",
   "metadata": {},
   "outputs": [],
   "source": [
    "# We need the name of the first three actors in the keywords so we will create a similar convert function.\n",
    "def convert3(obj):\n",
    "    L=[]\n",
    "    counter = 0\n",
    "    for i in ast.literal_eval(obj):\n",
    "        if counter !=3:\n",
    "          L.append(i['name'])\n",
    "          counter = counter + 1\n",
    "        else:\n",
    "            break\n",
    "    return L\n",
    "# This functio will help us get the first three names of actors from the cast and then break after the 3rd."
   ]
  },
  {
   "cell_type": "code",
   "execution_count": 26,
   "id": "f1de5a1b-e5bc-4505-bd8b-4c851047a2fa",
   "metadata": {},
   "outputs": [
    {
     "data": {
      "text/plain": [
       "0        [Sam Worthington, Zoe Saldana, Sigourney Weaver]\n",
       "1           [Johnny Depp, Orlando Bloom, Keira Knightley]\n",
       "2            [Daniel Craig, Christoph Waltz, Léa Seydoux]\n",
       "3            [Christian Bale, Michael Caine, Gary Oldman]\n",
       "4          [Taylor Kitsch, Lynn Collins, Samantha Morton]\n",
       "                              ...                        \n",
       "4804    [Carlos Gallardo, Jaime de Hoyos, Peter Marqua...\n",
       "4805         [Edward Burns, Kerry Bishé, Marsha Dietlein]\n",
       "4806           [Eric Mabius, Kristin Booth, Crystal Lowe]\n",
       "4807            [Daniel Henney, Eliza Coupe, Bill Paxton]\n",
       "4808    [Drew Barrymore, Brian Herzlinger, Corey Feldman]\n",
       "Name: cast, Length: 4806, dtype: object"
      ]
     },
     "execution_count": 26,
     "metadata": {},
     "output_type": "execute_result"
    }
   ],
   "source": [
    "movies['cast'].apply(convert3)"
   ]
  },
  {
   "cell_type": "code",
   "execution_count": 27,
   "id": "413e1c68-ade9-4b5c-b2f1-2eff319192e3",
   "metadata": {},
   "outputs": [],
   "source": [
    "movies['cast'] = movies['cast'].apply(convert3)"
   ]
  },
  {
   "cell_type": "code",
   "execution_count": 28,
   "id": "ee45e243-0401-403a-929d-f0058ebe4f25",
   "metadata": {},
   "outputs": [
    {
     "data": {
      "text/plain": [
       "'[{\"credit_id\": \"52fe48009251416c750aca23\", \"department\": \"Editing\", \"gender\": 0, \"id\": 1721, \"job\": \"Editor\", \"name\": \"Stephen E. Rivkin\"}, {\"credit_id\": \"539c47ecc3a36810e3001f87\", \"department\": \"Art\", \"gender\": 2, \"id\": 496, \"job\": \"Production Design\", \"name\": \"Rick Carter\"}, {\"credit_id\": \"54491c89c3a3680fb4001cf7\", \"department\": \"Sound\", \"gender\": 0, \"id\": 900, \"job\": \"Sound Designer\", \"name\": \"Christopher Boyes\"}, {\"credit_id\": \"54491cb70e0a267480001bd0\", \"department\": \"Sound\", \"gender\": 0, \"id\": 900, \"job\": \"Supervising Sound Editor\", \"name\": \"Christopher Boyes\"}, {\"credit_id\": \"539c4a4cc3a36810c9002101\", \"department\": \"Production\", \"gender\": 1, \"id\": 1262, \"job\": \"Casting\", \"name\": \"Mali Finn\"}, {\"credit_id\": \"5544ee3b925141499f0008fc\", \"department\": \"Sound\", \"gender\": 2, \"id\": 1729, \"job\": \"Original Music Composer\", \"name\": \"James Horner\"}, {\"credit_id\": \"52fe48009251416c750ac9c3\", \"department\": \"Directing\", \"gender\": 2, \"id\": 2710, \"job\": \"Director\", \"name\": \"James Cameron\"}, {\"credit_id\": \"52fe48009251416c750ac9d9\", \"department\": \"Writing\", \"gender\": 2, \"id\": 2710, \"job\": \"Writer\", \"name\": \"James Cameron\"}, {\"credit_id\": \"52fe48009251416c750aca17\", \"department\": \"Editing\", \"gender\": 2, \"id\": 2710, \"job\": \"Editor\", \"name\": \"James Cameron\"}, {\"credit_id\": \"52fe48009251416c750aca29\", \"department\": \"Production\", \"gender\": 2, \"id\": 2710, \"job\": \"Producer\", \"name\": \"James Cameron\"}, {\"credit_id\": \"52fe48009251416c750aca3f\", \"department\": \"Writing\", \"gender\": 2, \"id\": 2710, \"job\": \"Screenplay\", \"name\": \"James Cameron\"}, {\"credit_id\": \"539c4987c3a36810ba0021a4\", \"department\": \"Art\", \"gender\": 2, \"id\": 7236, \"job\": \"Art Direction\", \"name\": \"Andrew Menzies\"}, {\"credit_id\": \"549598c3c3a3686ae9004383\", \"department\": \"Visual Effects\", \"gender\": 0, \"id\": 6690, \"job\": \"Visual Effects Producer\", \"name\": \"Jill Brooks\"}, {\"credit_id\": \"52fe48009251416c750aca4b\", \"department\": \"Production\", \"gender\": 1, \"id\": 6347, \"job\": \"Casting\", \"name\": \"Margery Simkin\"}, {\"credit_id\": \"570b6f419251417da70032fe\", \"department\": \"Art\", \"gender\": 2, \"id\": 6878, \"job\": \"Supervising Art Director\", \"name\": \"Kevin Ishioka\"}, {\"credit_id\": \"5495a0fac3a3686ae9004468\", \"department\": \"Sound\", \"gender\": 0, \"id\": 6883, \"job\": \"Music Editor\", \"name\": \"Dick Bernstein\"}, {\"credit_id\": \"54959706c3a3686af3003e81\", \"department\": \"Sound\", \"gender\": 0, \"id\": 8159, \"job\": \"Sound Effects Editor\", \"name\": \"Shannon Mills\"}, {\"credit_id\": \"54491d58c3a3680fb1001ccb\", \"department\": \"Sound\", \"gender\": 0, \"id\": 8160, \"job\": \"Foley\", \"name\": \"Dennie Thorpe\"}, {\"credit_id\": \"54491d6cc3a3680fa5001b2c\", \"department\": \"Sound\", \"gender\": 0, \"id\": 8163, \"job\": \"Foley\", \"name\": \"Jana Vance\"}, {\"credit_id\": \"52fe48009251416c750aca57\", \"department\": \"Costume & Make-Up\", \"gender\": 1, \"id\": 8527, \"job\": \"Costume Design\", \"name\": \"Deborah Lynn Scott\"}, {\"credit_id\": \"52fe48009251416c750aca2f\", \"department\": \"Production\", \"gender\": 2, \"id\": 8529, \"job\": \"Producer\", \"name\": \"Jon Landau\"}, {\"credit_id\": \"539c4937c3a36810ba002194\", \"department\": \"Art\", \"gender\": 0, \"id\": 9618, \"job\": \"Art Direction\", \"name\": \"Sean Haworth\"}, {\"credit_id\": \"539c49b6c3a36810c10020e6\", \"department\": \"Art\", \"gender\": 1, \"id\": 12653, \"job\": \"Set Decoration\", \"name\": \"Kim Sinclair\"}, {\"credit_id\": \"570b6f2f9251413a0e00020d\", \"department\": \"Art\", \"gender\": 1, \"id\": 12653, \"job\": \"Supervising Art Director\", \"name\": \"Kim Sinclair\"}, {\"credit_id\": \"54491a6c0e0a26748c001b19\", \"department\": \"Art\", \"gender\": 2, \"id\": 14350, \"job\": \"Set Designer\", \"name\": \"Richard F. Mays\"}, {\"credit_id\": \"56928cf4c3a3684cff0025c4\", \"department\": \"Production\", \"gender\": 1, \"id\": 20294, \"job\": \"Executive Producer\", \"name\": \"Laeta Kalogridis\"}, {\"credit_id\": \"52fe48009251416c750aca51\", \"department\": \"Costume & Make-Up\", \"gender\": 0, \"id\": 17675, \"job\": \"Costume Design\", \"name\": \"Mayes C. Rubeo\"}, {\"credit_id\": \"52fe48009251416c750aca11\", \"department\": \"Camera\", \"gender\": 2, \"id\": 18265, \"job\": \"Director of Photography\", \"name\": \"Mauro Fiore\"}, {\"credit_id\": \"5449194d0e0a26748f001b39\", \"department\": \"Art\", \"gender\": 0, \"id\": 42281, \"job\": \"Set Designer\", \"name\": \"Scott Herbertson\"}, {\"credit_id\": \"52fe48009251416c750aca05\", \"department\": \"Crew\", \"gender\": 0, \"id\": 42288, \"job\": \"Stunts\", \"name\": \"Woody Schultz\"}, {\"credit_id\": \"5592aefb92514152de0010f5\", \"department\": \"Costume & Make-Up\", \"gender\": 0, \"id\": 29067, \"job\": \"Makeup Artist\", \"name\": \"Linda DeVetta\"}, {\"credit_id\": \"5592afa492514152de00112c\", \"department\": \"Costume & Make-Up\", \"gender\": 0, \"id\": 29067, \"job\": \"Hairstylist\", \"name\": \"Linda DeVetta\"}, {\"credit_id\": \"54959ed592514130fc002e5d\", \"department\": \"Camera\", \"gender\": 2, \"id\": 33302, \"job\": \"Camera Operator\", \"name\": \"Richard Bluck\"}, {\"credit_id\": \"539c4891c3a36810ba002147\", \"department\": \"Art\", \"gender\": 2, \"id\": 33303, \"job\": \"Art Direction\", \"name\": \"Simon Bright\"}, {\"credit_id\": \"54959c069251417a81001f3a\", \"department\": \"Visual Effects\", \"gender\": 0, \"id\": 113145, \"job\": \"Visual Effects Supervisor\", \"name\": \"Richard Martin\"}, {\"credit_id\": \"54959a0dc3a3680ff5002c8d\", \"department\": \"Crew\", \"gender\": 2, \"id\": 58188, \"job\": \"Visual Effects Editor\", \"name\": \"Steve R. Moore\"}, {\"credit_id\": \"52fe48009251416c750aca1d\", \"department\": \"Editing\", \"gender\": 2, \"id\": 58871, \"job\": \"Editor\", \"name\": \"John Refoua\"}, {\"credit_id\": \"54491a4dc3a3680fc30018ca\", \"department\": \"Art\", \"gender\": 0, \"id\": 92359, \"job\": \"Set Designer\", \"name\": \"Karl J. Martin\"}, {\"credit_id\": \"52fe48009251416c750aca35\", \"department\": \"Camera\", \"gender\": 1, \"id\": 72201, \"job\": \"Director of Photography\", \"name\": \"Chiling Lin\"}, {\"credit_id\": \"52fe48009251416c750ac9ff\", \"department\": \"Crew\", \"gender\": 0, \"id\": 89714, \"job\": \"Stunts\", \"name\": \"Ilram Choi\"}, {\"credit_id\": \"54959c529251416e2b004394\", \"department\": \"Visual Effects\", \"gender\": 2, \"id\": 93214, \"job\": \"Visual Effects Supervisor\", \"name\": \"Steven Quale\"}, {\"credit_id\": \"54491edf0e0a267489001c37\", \"department\": \"Crew\", \"gender\": 1, \"id\": 122607, \"job\": \"Dialect Coach\", \"name\": \"Carla Meyer\"}, {\"credit_id\": \"539c485bc3a368653d001a3a\", \"department\": \"Art\", \"gender\": 2, \"id\": 132585, \"job\": \"Art Direction\", \"name\": \"Nick Bassett\"}, {\"credit_id\": \"539c4903c3a368653d001a74\", \"department\": \"Art\", \"gender\": 0, \"id\": 132596, \"job\": \"Art Direction\", \"name\": \"Jill Cormack\"}, {\"credit_id\": \"539c4967c3a368653d001a94\", \"department\": \"Art\", \"gender\": 0, \"id\": 132604, \"job\": \"Art Direction\", \"name\": \"Andy McLaren\"}, {\"credit_id\": \"52fe48009251416c750aca45\", \"department\": \"Crew\", \"gender\": 0, \"id\": 236696, \"job\": \"Motion Capture Artist\", \"name\": \"Terry Notary\"}, {\"credit_id\": \"54959e02c3a3680fc60027d2\", \"department\": \"Crew\", \"gender\": 2, \"id\": 956198, \"job\": \"Stunt Coordinator\", \"name\": \"Garrett Warren\"}, {\"credit_id\": \"54959ca3c3a3686ae300438c\", \"department\": \"Visual Effects\", \"gender\": 2, \"id\": 957874, \"job\": \"Visual Effects Supervisor\", \"name\": \"Jonathan Rothbart\"}, {\"credit_id\": \"570b6f519251412c74001b2f\", \"department\": \"Art\", \"gender\": 0, \"id\": 957889, \"job\": \"Supervising Art Director\", \"name\": \"Stefan Dechant\"}, {\"credit_id\": \"570b6f62c3a3680b77007460\", \"department\": \"Art\", \"gender\": 2, \"id\": 959555, \"job\": \"Supervising Art Director\", \"name\": \"Todd Cherniawsky\"}, {\"credit_id\": \"539c4a3ac3a36810da0021cc\", \"department\": \"Production\", \"gender\": 0, \"id\": 1016177, \"job\": \"Casting\", \"name\": \"Miranda Rivers\"}, {\"credit_id\": \"539c482cc3a36810c1002062\", \"department\": \"Art\", \"gender\": 0, \"id\": 1032536, \"job\": \"Production Design\", \"name\": \"Robert Stromberg\"}, {\"credit_id\": \"539c4b65c3a36810c9002125\", \"department\": \"Costume & Make-Up\", \"gender\": 2, \"id\": 1071680, \"job\": \"Costume Design\", \"name\": \"John Harding\"}, {\"credit_id\": \"54959e6692514130fc002e4e\", \"department\": \"Camera\", \"gender\": 0, \"id\": 1177364, \"job\": \"Steadicam Operator\", \"name\": \"Roberto De Angelis\"}, {\"credit_id\": \"539c49f1c3a368653d001aac\", \"department\": \"Costume & Make-Up\", \"gender\": 2, \"id\": 1202850, \"job\": \"Makeup Department Head\", \"name\": \"Mike Smithson\"}, {\"credit_id\": \"5495999ec3a3686ae100460c\", \"department\": \"Visual Effects\", \"gender\": 0, \"id\": 1204668, \"job\": \"Visual Effects Producer\", \"name\": \"Alain Lalanne\"}, {\"credit_id\": \"54959cdfc3a3681153002729\", \"department\": \"Visual Effects\", \"gender\": 0, \"id\": 1206410, \"job\": \"Visual Effects Supervisor\", \"name\": \"Lucas Salton\"}, {\"credit_id\": \"549596239251417a81001eae\", \"department\": \"Crew\", \"gender\": 0, \"id\": 1234266, \"job\": \"Post Production Supervisor\", \"name\": \"Janace Tashjian\"}, {\"credit_id\": \"54959c859251416e1e003efe\", \"department\": \"Visual Effects\", \"gender\": 0, \"id\": 1271932, \"job\": \"Visual Effects Supervisor\", \"name\": \"Stephen Rosenbaum\"}, {\"credit_id\": \"5592af28c3a368775a00105f\", \"department\": \"Costume & Make-Up\", \"gender\": 0, \"id\": 1310064, \"job\": \"Makeup Artist\", \"name\": \"Frankie Karena\"}, {\"credit_id\": \"539c4adfc3a36810e300203b\", \"department\": \"Costume & Make-Up\", \"gender\": 1, \"id\": 1319844, \"job\": \"Costume Supervisor\", \"name\": \"Lisa Lovaas\"}, {\"credit_id\": \"54959b579251416e2b004371\", \"department\": \"Visual Effects\", \"gender\": 0, \"id\": 1327028, \"job\": \"Visual Effects Supervisor\", \"name\": \"Jonathan Fawkner\"}, {\"credit_id\": \"539c48a7c3a36810b5001fa7\", \"department\": \"Art\", \"gender\": 0, \"id\": 1330561, \"job\": \"Art Direction\", \"name\": \"Robert Bavin\"}, {\"credit_id\": \"539c4a71c3a36810da0021e0\", \"department\": \"Costume & Make-Up\", \"gender\": 0, \"id\": 1330567, \"job\": \"Costume Supervisor\", \"name\": \"Anthony Almaraz\"}, {\"credit_id\": \"539c4a8ac3a36810ba0021e4\", \"department\": \"Costume & Make-Up\", \"gender\": 0, \"id\": 1330570, \"job\": \"Costume Supervisor\", \"name\": \"Carolyn M. Fenton\"}, {\"credit_id\": \"539c4ab6c3a36810da0021f0\", \"department\": \"Costume & Make-Up\", \"gender\": 0, \"id\": 1330574, \"job\": \"Costume Supervisor\", \"name\": \"Beth Koenigsberg\"}, {\"credit_id\": \"54491ab70e0a267480001ba2\", \"department\": \"Art\", \"gender\": 0, \"id\": 1336191, \"job\": \"Set Designer\", \"name\": \"Sam Page\"}, {\"credit_id\": \"544919d9c3a3680fc30018bd\", \"department\": \"Art\", \"gender\": 0, \"id\": 1339441, \"job\": \"Set Designer\", \"name\": \"Tex Kadonaga\"}, {\"credit_id\": \"54491cf50e0a267483001b0c\", \"department\": \"Editing\", \"gender\": 0, \"id\": 1352422, \"job\": \"Dialogue Editor\", \"name\": \"Kim Foscato\"}, {\"credit_id\": \"544919f40e0a26748c001b09\", \"department\": \"Art\", \"gender\": 0, \"id\": 1352962, \"job\": \"Set Designer\", \"name\": \"Tammy S. Lee\"}, {\"credit_id\": \"5495a115c3a3680ff5002d71\", \"department\": \"Crew\", \"gender\": 0, \"id\": 1357070, \"job\": \"Transportation Coordinator\", \"name\": \"Denny Caira\"}, {\"credit_id\": \"5495a12f92514130fc002e94\", \"department\": \"Crew\", \"gender\": 0, \"id\": 1357071, \"job\": \"Transportation Coordinator\", \"name\": \"James Waitkus\"}, {\"credit_id\": \"5495976fc3a36811530026b0\", \"department\": \"Sound\", \"gender\": 0, \"id\": 1360103, \"job\": \"Supervising Sound Editor\", \"name\": \"Addison Teague\"}, {\"credit_id\": \"54491837c3a3680fb1001c5a\", \"department\": \"Art\", \"gender\": 2, \"id\": 1376887, \"job\": \"Set Designer\", \"name\": \"C. Scott Baker\"}, {\"credit_id\": \"54491878c3a3680fb4001c9d\", \"department\": \"Art\", \"gender\": 0, \"id\": 1376888, \"job\": \"Set Designer\", \"name\": \"Luke Caska\"}, {\"credit_id\": \"544918dac3a3680fa5001ae0\", \"department\": \"Art\", \"gender\": 0, \"id\": 1376889, \"job\": \"Set Designer\", \"name\": \"David Chow\"}, {\"credit_id\": \"544919110e0a267486001b68\", \"department\": \"Art\", \"gender\": 0, \"id\": 1376890, \"job\": \"Set Designer\", \"name\": \"Jonathan Dyer\"}, {\"credit_id\": \"54491967c3a3680faa001b5e\", \"department\": \"Art\", \"gender\": 0, \"id\": 1376891, \"job\": \"Set Designer\", \"name\": \"Joseph Hiura\"}, {\"credit_id\": \"54491997c3a3680fb1001c8a\", \"department\": \"Art\", \"gender\": 0, \"id\": 1376892, \"job\": \"Art Department Coordinator\", \"name\": \"Rebecca Jellie\"}, {\"credit_id\": \"544919ba0e0a26748f001b42\", \"department\": \"Art\", \"gender\": 0, \"id\": 1376893, \"job\": \"Set Designer\", \"name\": \"Robert Andrew Johnson\"}, {\"credit_id\": \"54491b1dc3a3680faa001b8c\", \"department\": \"Art\", \"gender\": 0, \"id\": 1376895, \"job\": \"Assistant Art Director\", \"name\": \"Mike Stassi\"}, {\"credit_id\": \"54491b79c3a3680fbb001826\", \"department\": \"Art\", \"gender\": 0, \"id\": 1376897, \"job\": \"Construction Coordinator\", \"name\": \"John Villarino\"}, {\"credit_id\": \"54491baec3a3680fb4001ce6\", \"department\": \"Art\", \"gender\": 2, \"id\": 1376898, \"job\": \"Assistant Art Director\", \"name\": \"Jeffrey Wisniewski\"}, {\"credit_id\": \"54491d2fc3a3680fb4001d07\", \"department\": \"Editing\", \"gender\": 0, \"id\": 1376899, \"job\": \"Dialogue Editor\", \"name\": \"Cheryl Nardi\"}, {\"credit_id\": \"54491d86c3a3680fa5001b2f\", \"department\": \"Editing\", \"gender\": 0, \"id\": 1376901, \"job\": \"Dialogue Editor\", \"name\": \"Marshall Winn\"}, {\"credit_id\": \"54491d9dc3a3680faa001bb0\", \"department\": \"Sound\", \"gender\": 0, \"id\": 1376902, \"job\": \"Supervising Sound Editor\", \"name\": \"Gwendolyn Yates Whittle\"}, {\"credit_id\": \"54491dc10e0a267486001bce\", \"department\": \"Sound\", \"gender\": 0, \"id\": 1376903, \"job\": \"Sound Re-Recording Mixer\", \"name\": \"William Stein\"}, {\"credit_id\": \"54491f500e0a26747c001c07\", \"department\": \"Crew\", \"gender\": 0, \"id\": 1376909, \"job\": \"Choreographer\", \"name\": \"Lula Washington\"}, {\"credit_id\": \"549599239251412c4e002a2e\", \"department\": \"Visual Effects\", \"gender\": 0, \"id\": 1391692, \"job\": \"Visual Effects Producer\", \"name\": \"Chris Del Conte\"}, {\"credit_id\": \"54959d54c3a36831b8001d9a\", \"department\": \"Visual Effects\", \"gender\": 2, \"id\": 1391695, \"job\": \"Visual Effects Supervisor\", \"name\": \"R. Christopher White\"}, {\"credit_id\": \"54959bdf9251412c4e002a66\", \"department\": \"Visual Effects\", \"gender\": 0, \"id\": 1394070, \"job\": \"Visual Effects Supervisor\", \"name\": \"Dan Lemmon\"}, {\"credit_id\": \"5495971d92514132ed002922\", \"department\": \"Sound\", \"gender\": 0, \"id\": 1394129, \"job\": \"Sound Effects Editor\", \"name\": \"Tim Nielsen\"}, {\"credit_id\": \"5592b25792514152cc0011aa\", \"department\": \"Crew\", \"gender\": 0, \"id\": 1394286, \"job\": \"CG Supervisor\", \"name\": \"Michael Mulholland\"}, {\"credit_id\": \"54959a329251416e2b004355\", \"department\": \"Crew\", \"gender\": 0, \"id\": 1394750, \"job\": \"Visual Effects Editor\", \"name\": \"Thomas Nittmann\"}, {\"credit_id\": \"54959d6dc3a3686ae9004401\", \"department\": \"Visual Effects\", \"gender\": 0, \"id\": 1394755, \"job\": \"Visual Effects Supervisor\", \"name\": \"Edson Williams\"}, {\"credit_id\": \"5495a08fc3a3686ae300441c\", \"department\": \"Editing\", \"gender\": 0, \"id\": 1394953, \"job\": \"Digital Intermediate\", \"name\": \"Christine Carr\"}, {\"credit_id\": \"55402d659251413d6d000249\", \"department\": \"Visual Effects\", \"gender\": 0, \"id\": 1395269, \"job\": \"Visual Effects Supervisor\", \"name\": \"John Bruno\"}, {\"credit_id\": \"54959e7b9251416e1e003f3e\", \"department\": \"Camera\", \"gender\": 0, \"id\": 1398970, \"job\": \"Steadicam Operator\", \"name\": \"David Emmerichs\"}, {\"credit_id\": \"54959734c3a3686ae10045e0\", \"department\": \"Sound\", \"gender\": 0, \"id\": 1400906, \"job\": \"Sound Effects Editor\", \"name\": \"Christopher Scarabosio\"}, {\"credit_id\": \"549595dd92514130fc002d79\", \"department\": \"Production\", \"gender\": 0, \"id\": 1401784, \"job\": \"Production Supervisor\", \"name\": \"Jennifer Teves\"}, {\"credit_id\": \"549596009251413af70028cc\", \"department\": \"Production\", \"gender\": 0, \"id\": 1401785, \"job\": \"Production Manager\", \"name\": \"Brigitte Yorke\"}, {\"credit_id\": \"549596e892514130fc002d99\", \"department\": \"Sound\", \"gender\": 0, \"id\": 1401786, \"job\": \"Sound Effects Editor\", \"name\": \"Ken Fischer\"}, {\"credit_id\": \"549598229251412c4e002a1c\", \"department\": \"Crew\", \"gender\": 0, \"id\": 1401787, \"job\": \"Special Effects Coordinator\", \"name\": \"Iain Hutton\"}, {\"credit_id\": \"549598349251416e2b00432b\", \"department\": \"Crew\", \"gender\": 0, \"id\": 1401788, \"job\": \"Special Effects Coordinator\", \"name\": \"Steve Ingram\"}, {\"credit_id\": \"54959905c3a3686ae3004324\", \"department\": \"Visual Effects\", \"gender\": 0, \"id\": 1401789, \"job\": \"Visual Effects Producer\", \"name\": \"Joyce Cox\"}, {\"credit_id\": \"5495994b92514132ed002951\", \"department\": \"Visual Effects\", \"gender\": 0, \"id\": 1401790, \"job\": \"Visual Effects Producer\", \"name\": \"Jenny Foster\"}, {\"credit_id\": \"549599cbc3a3686ae1004613\", \"department\": \"Crew\", \"gender\": 0, \"id\": 1401791, \"job\": \"Visual Effects Editor\", \"name\": \"Christopher Marino\"}, {\"credit_id\": \"549599f2c3a3686ae100461e\", \"department\": \"Crew\", \"gender\": 0, \"id\": 1401792, \"job\": \"Visual Effects Editor\", \"name\": \"Jim Milton\"}, {\"credit_id\": \"54959a51c3a3686af3003eb5\", \"department\": \"Visual Effects\", \"gender\": 0, \"id\": 1401793, \"job\": \"Visual Effects Producer\", \"name\": \"Cyndi Ochs\"}, {\"credit_id\": \"54959a7cc3a36811530026f4\", \"department\": \"Crew\", \"gender\": 0, \"id\": 1401794, \"job\": \"Visual Effects Editor\", \"name\": \"Lucas Putnam\"}, {\"credit_id\": \"54959b91c3a3680ff5002cb4\", \"department\": \"Visual Effects\", \"gender\": 0, \"id\": 1401795, \"job\": \"Visual Effects Supervisor\", \"name\": \"Anthony \\'Max\\' Ivins\"}, {\"credit_id\": \"54959bb69251412c4e002a5f\", \"department\": \"Visual Effects\", \"gender\": 0, \"id\": 1401796, \"job\": \"Visual Effects Supervisor\", \"name\": \"John Knoll\"}, {\"credit_id\": \"54959cbbc3a3686ae3004391\", \"department\": \"Visual Effects\", \"gender\": 2, \"id\": 1401799, \"job\": \"Visual Effects Supervisor\", \"name\": \"Eric Saindon\"}, {\"credit_id\": \"54959d06c3a3686ae90043f6\", \"department\": \"Visual Effects\", \"gender\": 0, \"id\": 1401800, \"job\": \"Visual Effects Supervisor\", \"name\": \"Wayne Stables\"}, {\"credit_id\": \"54959d259251416e1e003f11\", \"department\": \"Visual Effects\", \"gender\": 0, \"id\": 1401801, \"job\": \"Visual Effects Supervisor\", \"name\": \"David Stinnett\"}, {\"credit_id\": \"54959db49251413af7002975\", \"department\": \"Visual Effects\", \"gender\": 0, \"id\": 1401803, \"job\": \"Visual Effects Supervisor\", \"name\": \"Guy Williams\"}, {\"credit_id\": \"54959de4c3a3681153002750\", \"department\": \"Crew\", \"gender\": 0, \"id\": 1401804, \"job\": \"Stunt Coordinator\", \"name\": \"Stuart Thorp\"}, {\"credit_id\": \"54959ef2c3a3680fc60027f2\", \"department\": \"Lighting\", \"gender\": 0, \"id\": 1401805, \"job\": \"Best Boy Electric\", \"name\": \"Giles Coburn\"}, {\"credit_id\": \"54959f07c3a3680fc60027f9\", \"department\": \"Camera\", \"gender\": 2, \"id\": 1401806, \"job\": \"Still Photographer\", \"name\": \"Mark Fellman\"}, {\"credit_id\": \"54959f47c3a3681153002774\", \"department\": \"Lighting\", \"gender\": 0, \"id\": 1401807, \"job\": \"Lighting Technician\", \"name\": \"Scott Sprague\"}, {\"credit_id\": \"54959f8cc3a36831b8001df2\", \"department\": \"Visual Effects\", \"gender\": 0, \"id\": 1401808, \"job\": \"Animation Director\", \"name\": \"Jeremy Hollobon\"}, {\"credit_id\": \"54959fa0c3a36831b8001dfb\", \"department\": \"Visual Effects\", \"gender\": 0, \"id\": 1401809, \"job\": \"Animation Director\", \"name\": \"Orlando Meunier\"}, {\"credit_id\": \"54959fb6c3a3686af3003f54\", \"department\": \"Visual Effects\", \"gender\": 0, \"id\": 1401810, \"job\": \"Animation Director\", \"name\": \"Taisuke Tanimura\"}, {\"credit_id\": \"54959fd2c3a36831b8001e02\", \"department\": \"Costume & Make-Up\", \"gender\": 0, \"id\": 1401812, \"job\": \"Set Costumer\", \"name\": \"Lilia Mishel Acevedo\"}, {\"credit_id\": \"54959ff9c3a3686ae300440c\", \"department\": \"Costume & Make-Up\", \"gender\": 0, \"id\": 1401814, \"job\": \"Set Costumer\", \"name\": \"Alejandro M. Hernandez\"}, {\"credit_id\": \"5495a0ddc3a3686ae10046fe\", \"department\": \"Editing\", \"gender\": 0, \"id\": 1401815, \"job\": \"Digital Intermediate\", \"name\": \"Marvin Hall\"}, {\"credit_id\": \"5495a1f7c3a3686ae3004443\", \"department\": \"Production\", \"gender\": 0, \"id\": 1401816, \"job\": \"Publicist\", \"name\": \"Judy Alley\"}, {\"credit_id\": \"5592b29fc3a36869d100002f\", \"department\": \"Crew\", \"gender\": 0, \"id\": 1418381, \"job\": \"CG Supervisor\", \"name\": \"Mike Perry\"}, {\"credit_id\": \"5592b23a9251415df8001081\", \"department\": \"Crew\", \"gender\": 0, \"id\": 1426854, \"job\": \"CG Supervisor\", \"name\": \"Andrew Morley\"}, {\"credit_id\": \"55491e1192514104c40002d8\", \"department\": \"Art\", \"gender\": 0, \"id\": 1438901, \"job\": \"Conceptual Design\", \"name\": \"Seth Engstrom\"}, {\"credit_id\": \"5525d5809251417276002b06\", \"department\": \"Crew\", \"gender\": 0, \"id\": 1447362, \"job\": \"Visual Effects Art Director\", \"name\": \"Eric Oliver\"}, {\"credit_id\": \"554427ca925141586500312a\", \"department\": \"Visual Effects\", \"gender\": 0, \"id\": 1447503, \"job\": \"Modeling\", \"name\": \"Matsune Suzuki\"}, {\"credit_id\": \"551906889251415aab001c88\", \"department\": \"Art\", \"gender\": 0, \"id\": 1447524, \"job\": \"Art Department Manager\", \"name\": \"Paul Tobin\"}, {\"credit_id\": \"5592af8492514152cc0010de\", \"department\": \"Costume & Make-Up\", \"gender\": 0, \"id\": 1452643, \"job\": \"Hairstylist\", \"name\": \"Roxane Griffin\"}, {\"credit_id\": \"553d3c109251415852001318\", \"department\": \"Lighting\", \"gender\": 0, \"id\": 1453938, \"job\": \"Lighting Artist\", \"name\": \"Arun Ram-Mohan\"}, {\"credit_id\": \"5592af4692514152d5001355\", \"department\": \"Costume & Make-Up\", \"gender\": 0, \"id\": 1457305, \"job\": \"Makeup Artist\", \"name\": \"Georgia Lockhart-Adams\"}, {\"credit_id\": \"5592b2eac3a36877470012a5\", \"department\": \"Crew\", \"gender\": 0, \"id\": 1466035, \"job\": \"CG Supervisor\", \"name\": \"Thrain Shadbolt\"}, {\"credit_id\": \"5592b032c3a36877450015f1\", \"department\": \"Crew\", \"gender\": 0, \"id\": 1483220, \"job\": \"CG Supervisor\", \"name\": \"Brad Alexander\"}, {\"credit_id\": \"5592b05592514152d80012f6\", \"department\": \"Crew\", \"gender\": 0, \"id\": 1483221, \"job\": \"CG Supervisor\", \"name\": \"Shadi Almassizadeh\"}, {\"credit_id\": \"5592b090c3a36877570010b5\", \"department\": \"Crew\", \"gender\": 0, \"id\": 1483222, \"job\": \"CG Supervisor\", \"name\": \"Simon Clutterbuck\"}, {\"credit_id\": \"5592b0dbc3a368774b00112c\", \"department\": \"Crew\", \"gender\": 0, \"id\": 1483223, \"job\": \"CG Supervisor\", \"name\": \"Graeme Demmocks\"}, {\"credit_id\": \"5592b0fe92514152db0010c1\", \"department\": \"Crew\", \"gender\": 0, \"id\": 1483224, \"job\": \"CG Supervisor\", \"name\": \"Adrian Fernandes\"}, {\"credit_id\": \"5592b11f9251415df8001059\", \"department\": \"Crew\", \"gender\": 0, \"id\": 1483225, \"job\": \"CG Supervisor\", \"name\": \"Mitch Gates\"}, {\"credit_id\": \"5592b15dc3a3687745001645\", \"department\": \"Crew\", \"gender\": 0, \"id\": 1483226, \"job\": \"CG Supervisor\", \"name\": \"Jerry Kung\"}, {\"credit_id\": \"5592b18e925141645a0004ae\", \"department\": \"Crew\", \"gender\": 0, \"id\": 1483227, \"job\": \"CG Supervisor\", \"name\": \"Andy Lomas\"}, {\"credit_id\": \"5592b1bfc3a368775d0010e7\", \"department\": \"Crew\", \"gender\": 0, \"id\": 1483228, \"job\": \"CG Supervisor\", \"name\": \"Sebastian Marino\"}, {\"credit_id\": \"5592b2049251415df8001078\", \"department\": \"Crew\", \"gender\": 0, \"id\": 1483229, \"job\": \"CG Supervisor\", \"name\": \"Matthias Menz\"}, {\"credit_id\": \"5592b27b92514152d800136a\", \"department\": \"Crew\", \"gender\": 0, \"id\": 1483230, \"job\": \"CG Supervisor\", \"name\": \"Sergei Nevshupov\"}, {\"credit_id\": \"5592b2c3c3a36869e800003c\", \"department\": \"Crew\", \"gender\": 0, \"id\": 1483231, \"job\": \"CG Supervisor\", \"name\": \"Philippe Rebours\"}, {\"credit_id\": \"5592b317c3a36877470012af\", \"department\": \"Crew\", \"gender\": 0, \"id\": 1483232, \"job\": \"CG Supervisor\", \"name\": \"Michael Takarangi\"}, {\"credit_id\": \"5592b345c3a36877470012bb\", \"department\": \"Crew\", \"gender\": 0, \"id\": 1483233, \"job\": \"CG Supervisor\", \"name\": \"David Weitzberg\"}, {\"credit_id\": \"5592b37cc3a368775100113b\", \"department\": \"Crew\", \"gender\": 0, \"id\": 1483234, \"job\": \"CG Supervisor\", \"name\": \"Ben White\"}, {\"credit_id\": \"573c8e2f9251413f5d000094\", \"department\": \"Crew\", \"gender\": 1, \"id\": 1621932, \"job\": \"Stunts\", \"name\": \"Min Windle\"}]'"
      ]
     },
     "execution_count": 28,
     "metadata": {},
     "output_type": "execute_result"
    }
   ],
   "source": [
    "movies['crew'][0]"
   ]
  },
  {
   "cell_type": "code",
   "execution_count": 29,
   "id": "101d1459-1713-4565-b239-6c99b43c3528",
   "metadata": {},
   "outputs": [],
   "source": [
    "# Now we will make a user defined function to get the name of all the Directors from crew.\n",
    "def fetch_director(obj):\n",
    "    L=[]\n",
    "    for i in ast.literal_eval(obj):\n",
    "        if i['job']=='Director':        # If the key Job has value as Director then\n",
    "            L.append(i['name'])         # Then append the value in key name to the list L\n",
    "            break\n",
    "    return L"
   ]
  },
  {
   "cell_type": "code",
   "execution_count": 30,
   "id": "a877d6fb-139e-4bc4-aa4f-ab55e1adc32f",
   "metadata": {},
   "outputs": [
    {
     "data": {
      "text/plain": [
       "0           [James Cameron]\n",
       "1          [Gore Verbinski]\n",
       "2              [Sam Mendes]\n",
       "3       [Christopher Nolan]\n",
       "4          [Andrew Stanton]\n",
       "               ...         \n",
       "4804     [Robert Rodriguez]\n",
       "4805         [Edward Burns]\n",
       "4806          [Scott Smith]\n",
       "4807          [Daniel Hsia]\n",
       "4808     [Brian Herzlinger]\n",
       "Name: crew, Length: 4806, dtype: object"
      ]
     },
     "execution_count": 30,
     "metadata": {},
     "output_type": "execute_result"
    }
   ],
   "source": [
    "movies['crew'].apply(fetch_director)"
   ]
  },
  {
   "cell_type": "code",
   "execution_count": 31,
   "id": "19d2e88c-d8c3-43a2-ba50-aea05e2dba3d",
   "metadata": {},
   "outputs": [],
   "source": [
    "movies['crew'] = movies['crew'].apply(fetch_director)"
   ]
  },
  {
   "cell_type": "code",
   "execution_count": 32,
   "id": "1e4e4ab9-aa4d-4e5b-a24a-5b6f93ab7d93",
   "metadata": {},
   "outputs": [
    {
     "data": {
      "text/html": [
       "<div>\n",
       "<style scoped>\n",
       "    .dataframe tbody tr th:only-of-type {\n",
       "        vertical-align: middle;\n",
       "    }\n",
       "\n",
       "    .dataframe tbody tr th {\n",
       "        vertical-align: top;\n",
       "    }\n",
       "\n",
       "    .dataframe thead th {\n",
       "        text-align: right;\n",
       "    }\n",
       "</style>\n",
       "<table border=\"1\" class=\"dataframe\">\n",
       "  <thead>\n",
       "    <tr style=\"text-align: right;\">\n",
       "      <th></th>\n",
       "      <th>movie_id</th>\n",
       "      <th>title</th>\n",
       "      <th>overview</th>\n",
       "      <th>genres</th>\n",
       "      <th>keywords</th>\n",
       "      <th>cast</th>\n",
       "      <th>crew</th>\n",
       "    </tr>\n",
       "  </thead>\n",
       "  <tbody>\n",
       "    <tr>\n",
       "      <th>0</th>\n",
       "      <td>19995</td>\n",
       "      <td>Avatar</td>\n",
       "      <td>In the 22nd century, a paraplegic Marine is di...</td>\n",
       "      <td>[Action, Adventure, Fantasy, Science Fiction]</td>\n",
       "      <td>[culture clash, future, space war, space colon...</td>\n",
       "      <td>[Sam Worthington, Zoe Saldana, Sigourney Weaver]</td>\n",
       "      <td>[James Cameron]</td>\n",
       "    </tr>\n",
       "    <tr>\n",
       "      <th>1</th>\n",
       "      <td>285</td>\n",
       "      <td>Pirates of the Caribbean: At World's End</td>\n",
       "      <td>Captain Barbossa, long believed to be dead, ha...</td>\n",
       "      <td>[Adventure, Fantasy, Action]</td>\n",
       "      <td>[ocean, drug abuse, exotic island, east india ...</td>\n",
       "      <td>[Johnny Depp, Orlando Bloom, Keira Knightley]</td>\n",
       "      <td>[Gore Verbinski]</td>\n",
       "    </tr>\n",
       "    <tr>\n",
       "      <th>2</th>\n",
       "      <td>206647</td>\n",
       "      <td>Spectre</td>\n",
       "      <td>A cryptic message from Bond’s past sends him o...</td>\n",
       "      <td>[Action, Adventure, Crime]</td>\n",
       "      <td>[spy, based on novel, secret agent, sequel, mi...</td>\n",
       "      <td>[Daniel Craig, Christoph Waltz, Léa Seydoux]</td>\n",
       "      <td>[Sam Mendes]</td>\n",
       "    </tr>\n",
       "    <tr>\n",
       "      <th>3</th>\n",
       "      <td>49026</td>\n",
       "      <td>The Dark Knight Rises</td>\n",
       "      <td>Following the death of District Attorney Harve...</td>\n",
       "      <td>[Action, Crime, Drama, Thriller]</td>\n",
       "      <td>[dc comics, crime fighter, terrorist, secret i...</td>\n",
       "      <td>[Christian Bale, Michael Caine, Gary Oldman]</td>\n",
       "      <td>[Christopher Nolan]</td>\n",
       "    </tr>\n",
       "    <tr>\n",
       "      <th>4</th>\n",
       "      <td>49529</td>\n",
       "      <td>John Carter</td>\n",
       "      <td>John Carter is a war-weary, former military ca...</td>\n",
       "      <td>[Action, Adventure, Science Fiction]</td>\n",
       "      <td>[based on novel, mars, medallion, space travel...</td>\n",
       "      <td>[Taylor Kitsch, Lynn Collins, Samantha Morton]</td>\n",
       "      <td>[Andrew Stanton]</td>\n",
       "    </tr>\n",
       "  </tbody>\n",
       "</table>\n",
       "</div>"
      ],
      "text/plain": [
       "   movie_id                                     title  \\\n",
       "0     19995                                    Avatar   \n",
       "1       285  Pirates of the Caribbean: At World's End   \n",
       "2    206647                                   Spectre   \n",
       "3     49026                     The Dark Knight Rises   \n",
       "4     49529                               John Carter   \n",
       "\n",
       "                                            overview  \\\n",
       "0  In the 22nd century, a paraplegic Marine is di...   \n",
       "1  Captain Barbossa, long believed to be dead, ha...   \n",
       "2  A cryptic message from Bond’s past sends him o...   \n",
       "3  Following the death of District Attorney Harve...   \n",
       "4  John Carter is a war-weary, former military ca...   \n",
       "\n",
       "                                          genres  \\\n",
       "0  [Action, Adventure, Fantasy, Science Fiction]   \n",
       "1                   [Adventure, Fantasy, Action]   \n",
       "2                     [Action, Adventure, Crime]   \n",
       "3               [Action, Crime, Drama, Thriller]   \n",
       "4           [Action, Adventure, Science Fiction]   \n",
       "\n",
       "                                            keywords  \\\n",
       "0  [culture clash, future, space war, space colon...   \n",
       "1  [ocean, drug abuse, exotic island, east india ...   \n",
       "2  [spy, based on novel, secret agent, sequel, mi...   \n",
       "3  [dc comics, crime fighter, terrorist, secret i...   \n",
       "4  [based on novel, mars, medallion, space travel...   \n",
       "\n",
       "                                               cast                 crew  \n",
       "0  [Sam Worthington, Zoe Saldana, Sigourney Weaver]      [James Cameron]  \n",
       "1     [Johnny Depp, Orlando Bloom, Keira Knightley]     [Gore Verbinski]  \n",
       "2      [Daniel Craig, Christoph Waltz, Léa Seydoux]         [Sam Mendes]  \n",
       "3      [Christian Bale, Michael Caine, Gary Oldman]  [Christopher Nolan]  \n",
       "4    [Taylor Kitsch, Lynn Collins, Samantha Morton]     [Andrew Stanton]  "
      ]
     },
     "execution_count": 32,
     "metadata": {},
     "output_type": "execute_result"
    }
   ],
   "source": [
    "movies.head()"
   ]
  },
  {
   "cell_type": "markdown",
   "id": "39c28b73-4f90-40f7-8a98-6b91fbaf5d35",
   "metadata": {},
   "source": [
    "Here overview is in string not in list but all others for the tag that is genre, keyword, cast and crew are in list.\n",
    "So we can convert overview to list so we can perform concatination."
   ]
  },
  {
   "cell_type": "code",
   "execution_count": 33,
   "id": "cf18cfd5-de4d-4eb9-86cf-549c0af5dc65",
   "metadata": {},
   "outputs": [
    {
     "data": {
      "text/plain": [
       "0       [In, the, 22nd, century,, a, paraplegic, Marin...\n",
       "1       [Captain, Barbossa,, long, believed, to, be, d...\n",
       "2       [A, cryptic, message, from, Bond’s, past, send...\n",
       "3       [Following, the, death, of, District, Attorney...\n",
       "4       [John, Carter, is, a, war-weary,, former, mili...\n",
       "                              ...                        \n",
       "4804    [El, Mariachi, just, wants, to, play, his, gui...\n",
       "4805    [A, newlywed, couple's, honeymoon, is, upended...\n",
       "4806    [\"Signed,, Sealed,, Delivered\", introduces, a,...\n",
       "4807    [When, ambitious, New, York, attorney, Sam, is...\n",
       "4808    [Ever, since, the, second, grade, when, he, fi...\n",
       "Name: overview, Length: 4806, dtype: object"
      ]
     },
     "execution_count": 33,
     "metadata": {},
     "output_type": "execute_result"
    }
   ],
   "source": [
    "movies['overview'].apply(lambda x:x.split())"
   ]
  },
  {
   "cell_type": "markdown",
   "id": "a71eeec2-9057-45c0-bb2d-c19cd7a21b69",
   "metadata": {},
   "source": [
    "lambda x: x.split() defines a short, anonymous function that does:\n",
    "Takes an input x (each overview text).\n",
    "Splits x into a list of words using the split() method, which usually separates words by spaces.\n",
    "The code transforms the overview column from containing whole text overviews to lists of individual words from those overviews. \n",
    "This can be useful for various text analysis tasks.\n",
    "If an overview was \"A thrilling action adventure\", it would become a list like: [\"A\", \"thrilling\", \"action\", \"adventure\"]."
   ]
  },
  {
   "cell_type": "code",
   "execution_count": 34,
   "id": "d94c8d76-dbf4-4a22-b7e3-cd8170547423",
   "metadata": {},
   "outputs": [],
   "source": [
    "movies['overview']=movies['overview'].apply(lambda x:x.split())"
   ]
  },
  {
   "cell_type": "code",
   "execution_count": 35,
   "id": "88514ea7-cbac-4de0-beb6-b864a74b783c",
   "metadata": {},
   "outputs": [
    {
     "data": {
      "text/html": [
       "<div>\n",
       "<style scoped>\n",
       "    .dataframe tbody tr th:only-of-type {\n",
       "        vertical-align: middle;\n",
       "    }\n",
       "\n",
       "    .dataframe tbody tr th {\n",
       "        vertical-align: top;\n",
       "    }\n",
       "\n",
       "    .dataframe thead th {\n",
       "        text-align: right;\n",
       "    }\n",
       "</style>\n",
       "<table border=\"1\" class=\"dataframe\">\n",
       "  <thead>\n",
       "    <tr style=\"text-align: right;\">\n",
       "      <th></th>\n",
       "      <th>movie_id</th>\n",
       "      <th>title</th>\n",
       "      <th>overview</th>\n",
       "      <th>genres</th>\n",
       "      <th>keywords</th>\n",
       "      <th>cast</th>\n",
       "      <th>crew</th>\n",
       "    </tr>\n",
       "  </thead>\n",
       "  <tbody>\n",
       "    <tr>\n",
       "      <th>0</th>\n",
       "      <td>19995</td>\n",
       "      <td>Avatar</td>\n",
       "      <td>[In, the, 22nd, century,, a, paraplegic, Marin...</td>\n",
       "      <td>[Action, Adventure, Fantasy, Science Fiction]</td>\n",
       "      <td>[culture clash, future, space war, space colon...</td>\n",
       "      <td>[Sam Worthington, Zoe Saldana, Sigourney Weaver]</td>\n",
       "      <td>[James Cameron]</td>\n",
       "    </tr>\n",
       "    <tr>\n",
       "      <th>1</th>\n",
       "      <td>285</td>\n",
       "      <td>Pirates of the Caribbean: At World's End</td>\n",
       "      <td>[Captain, Barbossa,, long, believed, to, be, d...</td>\n",
       "      <td>[Adventure, Fantasy, Action]</td>\n",
       "      <td>[ocean, drug abuse, exotic island, east india ...</td>\n",
       "      <td>[Johnny Depp, Orlando Bloom, Keira Knightley]</td>\n",
       "      <td>[Gore Verbinski]</td>\n",
       "    </tr>\n",
       "    <tr>\n",
       "      <th>2</th>\n",
       "      <td>206647</td>\n",
       "      <td>Spectre</td>\n",
       "      <td>[A, cryptic, message, from, Bond’s, past, send...</td>\n",
       "      <td>[Action, Adventure, Crime]</td>\n",
       "      <td>[spy, based on novel, secret agent, sequel, mi...</td>\n",
       "      <td>[Daniel Craig, Christoph Waltz, Léa Seydoux]</td>\n",
       "      <td>[Sam Mendes]</td>\n",
       "    </tr>\n",
       "    <tr>\n",
       "      <th>3</th>\n",
       "      <td>49026</td>\n",
       "      <td>The Dark Knight Rises</td>\n",
       "      <td>[Following, the, death, of, District, Attorney...</td>\n",
       "      <td>[Action, Crime, Drama, Thriller]</td>\n",
       "      <td>[dc comics, crime fighter, terrorist, secret i...</td>\n",
       "      <td>[Christian Bale, Michael Caine, Gary Oldman]</td>\n",
       "      <td>[Christopher Nolan]</td>\n",
       "    </tr>\n",
       "    <tr>\n",
       "      <th>4</th>\n",
       "      <td>49529</td>\n",
       "      <td>John Carter</td>\n",
       "      <td>[John, Carter, is, a, war-weary,, former, mili...</td>\n",
       "      <td>[Action, Adventure, Science Fiction]</td>\n",
       "      <td>[based on novel, mars, medallion, space travel...</td>\n",
       "      <td>[Taylor Kitsch, Lynn Collins, Samantha Morton]</td>\n",
       "      <td>[Andrew Stanton]</td>\n",
       "    </tr>\n",
       "  </tbody>\n",
       "</table>\n",
       "</div>"
      ],
      "text/plain": [
       "   movie_id                                     title  \\\n",
       "0     19995                                    Avatar   \n",
       "1       285  Pirates of the Caribbean: At World's End   \n",
       "2    206647                                   Spectre   \n",
       "3     49026                     The Dark Knight Rises   \n",
       "4     49529                               John Carter   \n",
       "\n",
       "                                            overview  \\\n",
       "0  [In, the, 22nd, century,, a, paraplegic, Marin...   \n",
       "1  [Captain, Barbossa,, long, believed, to, be, d...   \n",
       "2  [A, cryptic, message, from, Bond’s, past, send...   \n",
       "3  [Following, the, death, of, District, Attorney...   \n",
       "4  [John, Carter, is, a, war-weary,, former, mili...   \n",
       "\n",
       "                                          genres  \\\n",
       "0  [Action, Adventure, Fantasy, Science Fiction]   \n",
       "1                   [Adventure, Fantasy, Action]   \n",
       "2                     [Action, Adventure, Crime]   \n",
       "3               [Action, Crime, Drama, Thriller]   \n",
       "4           [Action, Adventure, Science Fiction]   \n",
       "\n",
       "                                            keywords  \\\n",
       "0  [culture clash, future, space war, space colon...   \n",
       "1  [ocean, drug abuse, exotic island, east india ...   \n",
       "2  [spy, based on novel, secret agent, sequel, mi...   \n",
       "3  [dc comics, crime fighter, terrorist, secret i...   \n",
       "4  [based on novel, mars, medallion, space travel...   \n",
       "\n",
       "                                               cast                 crew  \n",
       "0  [Sam Worthington, Zoe Saldana, Sigourney Weaver]      [James Cameron]  \n",
       "1     [Johnny Depp, Orlando Bloom, Keira Knightley]     [Gore Verbinski]  \n",
       "2      [Daniel Craig, Christoph Waltz, Léa Seydoux]         [Sam Mendes]  \n",
       "3      [Christian Bale, Michael Caine, Gary Oldman]  [Christopher Nolan]  \n",
       "4    [Taylor Kitsch, Lynn Collins, Samantha Morton]     [Andrew Stanton]  "
      ]
     },
     "execution_count": 35,
     "metadata": {},
     "output_type": "execute_result"
    }
   ],
   "source": [
    "movies.head()"
   ]
  },
  {
   "cell_type": "markdown",
   "id": "cb88a270-e635-4b40-9d1b-24d54ef0d7e2",
   "metadata": {},
   "source": [
    "Now we will perform concatination of overview, genre, keyword, cast and crew then we will get a huge list of all the words.\n",
    "Then we will convert the huge list of words back to string which wll give us a huge paragraph."
   ]
  },
  {
   "cell_type": "markdown",
   "id": "b4da820f-3dcd-4dbd-ade9-62adbdd0f4a7",
   "metadata": {},
   "source": [
    "Now there is a  problem when we convert to tags for example in the directors list there is Sam Worthington and Sam Mendens.\n",
    "if we leave space then Sam is one entity and Worththington is another even though it is the same person and the model will \n",
    "get confused as to which Sam we are reffering to so when we make Tag we are going to write the full names without space. So \n",
    "Sam Mendes will be become a single entity and a unique Tag we will have to do that with geners too. This is a transformation\n",
    "we have to apply."
   ]
  },
  {
   "cell_type": "code",
   "execution_count": 36,
   "id": "48ef0cc6-69a1-4645-8d55-818cb9f9d6a8",
   "metadata": {},
   "outputs": [
    {
     "data": {
      "text/plain": [
       "0       [Action, Adventure, Fantasy, ScienceFiction]\n",
       "1                       [Adventure, Fantasy, Action]\n",
       "2                         [Action, Adventure, Crime]\n",
       "3                   [Action, Crime, Drama, Thriller]\n",
       "4                [Action, Adventure, ScienceFiction]\n",
       "                            ...                     \n",
       "4804                       [Action, Crime, Thriller]\n",
       "4805                               [Comedy, Romance]\n",
       "4806               [Comedy, Drama, Romance, TVMovie]\n",
       "4807                                              []\n",
       "4808                                   [Documentary]\n",
       "Name: genres, Length: 4806, dtype: object"
      ]
     },
     "execution_count": 36,
     "metadata": {},
     "output_type": "execute_result"
    }
   ],
   "source": [
    "movies['genres'].apply(lambda x:[i.replace(\" \",\"\") for i in x]) \n",
    "# Here we are saying in genres coloumn take each row (x) and each of the elements of each row(i) replace space with no space for all the elements in row\n",
    "# here we are removing space between the words for example science fiction will become sciencefiction."
   ]
  },
  {
   "cell_type": "markdown",
   "id": "09bf98c9-9343-4640-aecc-7ef61286f24b",
   "metadata": {},
   "source": [
    "Now we will do the same with overview,keyword, cast and crew."
   ]
  },
  {
   "cell_type": "code",
   "execution_count": 37,
   "id": "cd90595b-8b05-4026-9d5a-d7ea4adb8e72",
   "metadata": {},
   "outputs": [],
   "source": [
    "movies['overview'] = movies['overview'].apply(lambda x:[i.replace(\" \",\"\") for i in x]) \n",
    "movies['genres'] = movies['genres'].apply(lambda x:[i.replace(\" \",\"\") for i in x]) \n",
    "movies['cast'] = movies['cast'].apply(lambda x:[i.replace(\" \",\"\") for i in x]) \n",
    "movies['keywords'] = movies['keywords'].apply(lambda x:[i.replace(\" \",\"\") for i in x]) \n",
    "movies['crew'] = movies['crew'].apply(lambda x:[i.replace(\" \",\"\") for i in x]) "
   ]
  },
  {
   "cell_type": "code",
   "execution_count": 38,
   "id": "0ee32114-3062-4f59-86c9-3aebcd3c6544",
   "metadata": {},
   "outputs": [
    {
     "data": {
      "text/html": [
       "<div>\n",
       "<style scoped>\n",
       "    .dataframe tbody tr th:only-of-type {\n",
       "        vertical-align: middle;\n",
       "    }\n",
       "\n",
       "    .dataframe tbody tr th {\n",
       "        vertical-align: top;\n",
       "    }\n",
       "\n",
       "    .dataframe thead th {\n",
       "        text-align: right;\n",
       "    }\n",
       "</style>\n",
       "<table border=\"1\" class=\"dataframe\">\n",
       "  <thead>\n",
       "    <tr style=\"text-align: right;\">\n",
       "      <th></th>\n",
       "      <th>movie_id</th>\n",
       "      <th>title</th>\n",
       "      <th>overview</th>\n",
       "      <th>genres</th>\n",
       "      <th>keywords</th>\n",
       "      <th>cast</th>\n",
       "      <th>crew</th>\n",
       "    </tr>\n",
       "  </thead>\n",
       "  <tbody>\n",
       "    <tr>\n",
       "      <th>0</th>\n",
       "      <td>19995</td>\n",
       "      <td>Avatar</td>\n",
       "      <td>[In, the, 22nd, century,, a, paraplegic, Marin...</td>\n",
       "      <td>[Action, Adventure, Fantasy, ScienceFiction]</td>\n",
       "      <td>[cultureclash, future, spacewar, spacecolony, ...</td>\n",
       "      <td>[SamWorthington, ZoeSaldana, SigourneyWeaver]</td>\n",
       "      <td>[JamesCameron]</td>\n",
       "    </tr>\n",
       "    <tr>\n",
       "      <th>1</th>\n",
       "      <td>285</td>\n",
       "      <td>Pirates of the Caribbean: At World's End</td>\n",
       "      <td>[Captain, Barbossa,, long, believed, to, be, d...</td>\n",
       "      <td>[Adventure, Fantasy, Action]</td>\n",
       "      <td>[ocean, drugabuse, exoticisland, eastindiatrad...</td>\n",
       "      <td>[JohnnyDepp, OrlandoBloom, KeiraKnightley]</td>\n",
       "      <td>[GoreVerbinski]</td>\n",
       "    </tr>\n",
       "    <tr>\n",
       "      <th>2</th>\n",
       "      <td>206647</td>\n",
       "      <td>Spectre</td>\n",
       "      <td>[A, cryptic, message, from, Bond’s, past, send...</td>\n",
       "      <td>[Action, Adventure, Crime]</td>\n",
       "      <td>[spy, basedonnovel, secretagent, sequel, mi6, ...</td>\n",
       "      <td>[DanielCraig, ChristophWaltz, LéaSeydoux]</td>\n",
       "      <td>[SamMendes]</td>\n",
       "    </tr>\n",
       "    <tr>\n",
       "      <th>3</th>\n",
       "      <td>49026</td>\n",
       "      <td>The Dark Knight Rises</td>\n",
       "      <td>[Following, the, death, of, District, Attorney...</td>\n",
       "      <td>[Action, Crime, Drama, Thriller]</td>\n",
       "      <td>[dccomics, crimefighter, terrorist, secretiden...</td>\n",
       "      <td>[ChristianBale, MichaelCaine, GaryOldman]</td>\n",
       "      <td>[ChristopherNolan]</td>\n",
       "    </tr>\n",
       "    <tr>\n",
       "      <th>4</th>\n",
       "      <td>49529</td>\n",
       "      <td>John Carter</td>\n",
       "      <td>[John, Carter, is, a, war-weary,, former, mili...</td>\n",
       "      <td>[Action, Adventure, ScienceFiction]</td>\n",
       "      <td>[basedonnovel, mars, medallion, spacetravel, p...</td>\n",
       "      <td>[TaylorKitsch, LynnCollins, SamanthaMorton]</td>\n",
       "      <td>[AndrewStanton]</td>\n",
       "    </tr>\n",
       "  </tbody>\n",
       "</table>\n",
       "</div>"
      ],
      "text/plain": [
       "   movie_id                                     title  \\\n",
       "0     19995                                    Avatar   \n",
       "1       285  Pirates of the Caribbean: At World's End   \n",
       "2    206647                                   Spectre   \n",
       "3     49026                     The Dark Knight Rises   \n",
       "4     49529                               John Carter   \n",
       "\n",
       "                                            overview  \\\n",
       "0  [In, the, 22nd, century,, a, paraplegic, Marin...   \n",
       "1  [Captain, Barbossa,, long, believed, to, be, d...   \n",
       "2  [A, cryptic, message, from, Bond’s, past, send...   \n",
       "3  [Following, the, death, of, District, Attorney...   \n",
       "4  [John, Carter, is, a, war-weary,, former, mili...   \n",
       "\n",
       "                                         genres  \\\n",
       "0  [Action, Adventure, Fantasy, ScienceFiction]   \n",
       "1                  [Adventure, Fantasy, Action]   \n",
       "2                    [Action, Adventure, Crime]   \n",
       "3              [Action, Crime, Drama, Thriller]   \n",
       "4           [Action, Adventure, ScienceFiction]   \n",
       "\n",
       "                                            keywords  \\\n",
       "0  [cultureclash, future, spacewar, spacecolony, ...   \n",
       "1  [ocean, drugabuse, exoticisland, eastindiatrad...   \n",
       "2  [spy, basedonnovel, secretagent, sequel, mi6, ...   \n",
       "3  [dccomics, crimefighter, terrorist, secretiden...   \n",
       "4  [basedonnovel, mars, medallion, spacetravel, p...   \n",
       "\n",
       "                                            cast                crew  \n",
       "0  [SamWorthington, ZoeSaldana, SigourneyWeaver]      [JamesCameron]  \n",
       "1     [JohnnyDepp, OrlandoBloom, KeiraKnightley]     [GoreVerbinski]  \n",
       "2      [DanielCraig, ChristophWaltz, LéaSeydoux]         [SamMendes]  \n",
       "3      [ChristianBale, MichaelCaine, GaryOldman]  [ChristopherNolan]  \n",
       "4    [TaylorKitsch, LynnCollins, SamanthaMorton]     [AndrewStanton]  "
      ]
     },
     "execution_count": 38,
     "metadata": {},
     "output_type": "execute_result"
    }
   ],
   "source": [
    "movies.head()"
   ]
  },
  {
   "cell_type": "markdown",
   "id": "da3d6e8c-67e7-4a3a-9c66-ba1161ed4b47",
   "metadata": {},
   "source": [
    "Now we will create a  new coloumn called Tags and concatinate all these coloumns genre ,overview,keyword, cast and crew in it."
   ]
  },
  {
   "cell_type": "code",
   "execution_count": 39,
   "id": "3e8ab793-9079-46ab-8ebd-9d20945b7b4d",
   "metadata": {},
   "outputs": [],
   "source": [
    "movies['tags'] = movies['overview'] + movies['genres'] + movies['keywords'] + movies['cast'] + movies['crew']"
   ]
  },
  {
   "cell_type": "code",
   "execution_count": 40,
   "id": "c4bb9213-6a06-4224-bdcb-011feec688cc",
   "metadata": {},
   "outputs": [
    {
     "data": {
      "text/html": [
       "<div>\n",
       "<style scoped>\n",
       "    .dataframe tbody tr th:only-of-type {\n",
       "        vertical-align: middle;\n",
       "    }\n",
       "\n",
       "    .dataframe tbody tr th {\n",
       "        vertical-align: top;\n",
       "    }\n",
       "\n",
       "    .dataframe thead th {\n",
       "        text-align: right;\n",
       "    }\n",
       "</style>\n",
       "<table border=\"1\" class=\"dataframe\">\n",
       "  <thead>\n",
       "    <tr style=\"text-align: right;\">\n",
       "      <th></th>\n",
       "      <th>movie_id</th>\n",
       "      <th>title</th>\n",
       "      <th>overview</th>\n",
       "      <th>genres</th>\n",
       "      <th>keywords</th>\n",
       "      <th>cast</th>\n",
       "      <th>crew</th>\n",
       "      <th>tags</th>\n",
       "    </tr>\n",
       "  </thead>\n",
       "  <tbody>\n",
       "    <tr>\n",
       "      <th>0</th>\n",
       "      <td>19995</td>\n",
       "      <td>Avatar</td>\n",
       "      <td>[In, the, 22nd, century,, a, paraplegic, Marin...</td>\n",
       "      <td>[Action, Adventure, Fantasy, ScienceFiction]</td>\n",
       "      <td>[cultureclash, future, spacewar, spacecolony, ...</td>\n",
       "      <td>[SamWorthington, ZoeSaldana, SigourneyWeaver]</td>\n",
       "      <td>[JamesCameron]</td>\n",
       "      <td>[In, the, 22nd, century,, a, paraplegic, Marin...</td>\n",
       "    </tr>\n",
       "    <tr>\n",
       "      <th>1</th>\n",
       "      <td>285</td>\n",
       "      <td>Pirates of the Caribbean: At World's End</td>\n",
       "      <td>[Captain, Barbossa,, long, believed, to, be, d...</td>\n",
       "      <td>[Adventure, Fantasy, Action]</td>\n",
       "      <td>[ocean, drugabuse, exoticisland, eastindiatrad...</td>\n",
       "      <td>[JohnnyDepp, OrlandoBloom, KeiraKnightley]</td>\n",
       "      <td>[GoreVerbinski]</td>\n",
       "      <td>[Captain, Barbossa,, long, believed, to, be, d...</td>\n",
       "    </tr>\n",
       "    <tr>\n",
       "      <th>2</th>\n",
       "      <td>206647</td>\n",
       "      <td>Spectre</td>\n",
       "      <td>[A, cryptic, message, from, Bond’s, past, send...</td>\n",
       "      <td>[Action, Adventure, Crime]</td>\n",
       "      <td>[spy, basedonnovel, secretagent, sequel, mi6, ...</td>\n",
       "      <td>[DanielCraig, ChristophWaltz, LéaSeydoux]</td>\n",
       "      <td>[SamMendes]</td>\n",
       "      <td>[A, cryptic, message, from, Bond’s, past, send...</td>\n",
       "    </tr>\n",
       "    <tr>\n",
       "      <th>3</th>\n",
       "      <td>49026</td>\n",
       "      <td>The Dark Knight Rises</td>\n",
       "      <td>[Following, the, death, of, District, Attorney...</td>\n",
       "      <td>[Action, Crime, Drama, Thriller]</td>\n",
       "      <td>[dccomics, crimefighter, terrorist, secretiden...</td>\n",
       "      <td>[ChristianBale, MichaelCaine, GaryOldman]</td>\n",
       "      <td>[ChristopherNolan]</td>\n",
       "      <td>[Following, the, death, of, District, Attorney...</td>\n",
       "    </tr>\n",
       "    <tr>\n",
       "      <th>4</th>\n",
       "      <td>49529</td>\n",
       "      <td>John Carter</td>\n",
       "      <td>[John, Carter, is, a, war-weary,, former, mili...</td>\n",
       "      <td>[Action, Adventure, ScienceFiction]</td>\n",
       "      <td>[basedonnovel, mars, medallion, spacetravel, p...</td>\n",
       "      <td>[TaylorKitsch, LynnCollins, SamanthaMorton]</td>\n",
       "      <td>[AndrewStanton]</td>\n",
       "      <td>[John, Carter, is, a, war-weary,, former, mili...</td>\n",
       "    </tr>\n",
       "  </tbody>\n",
       "</table>\n",
       "</div>"
      ],
      "text/plain": [
       "   movie_id                                     title  \\\n",
       "0     19995                                    Avatar   \n",
       "1       285  Pirates of the Caribbean: At World's End   \n",
       "2    206647                                   Spectre   \n",
       "3     49026                     The Dark Knight Rises   \n",
       "4     49529                               John Carter   \n",
       "\n",
       "                                            overview  \\\n",
       "0  [In, the, 22nd, century,, a, paraplegic, Marin...   \n",
       "1  [Captain, Barbossa,, long, believed, to, be, d...   \n",
       "2  [A, cryptic, message, from, Bond’s, past, send...   \n",
       "3  [Following, the, death, of, District, Attorney...   \n",
       "4  [John, Carter, is, a, war-weary,, former, mili...   \n",
       "\n",
       "                                         genres  \\\n",
       "0  [Action, Adventure, Fantasy, ScienceFiction]   \n",
       "1                  [Adventure, Fantasy, Action]   \n",
       "2                    [Action, Adventure, Crime]   \n",
       "3              [Action, Crime, Drama, Thriller]   \n",
       "4           [Action, Adventure, ScienceFiction]   \n",
       "\n",
       "                                            keywords  \\\n",
       "0  [cultureclash, future, spacewar, spacecolony, ...   \n",
       "1  [ocean, drugabuse, exoticisland, eastindiatrad...   \n",
       "2  [spy, basedonnovel, secretagent, sequel, mi6, ...   \n",
       "3  [dccomics, crimefighter, terrorist, secretiden...   \n",
       "4  [basedonnovel, mars, medallion, spacetravel, p...   \n",
       "\n",
       "                                            cast                crew  \\\n",
       "0  [SamWorthington, ZoeSaldana, SigourneyWeaver]      [JamesCameron]   \n",
       "1     [JohnnyDepp, OrlandoBloom, KeiraKnightley]     [GoreVerbinski]   \n",
       "2      [DanielCraig, ChristophWaltz, LéaSeydoux]         [SamMendes]   \n",
       "3      [ChristianBale, MichaelCaine, GaryOldman]  [ChristopherNolan]   \n",
       "4    [TaylorKitsch, LynnCollins, SamanthaMorton]     [AndrewStanton]   \n",
       "\n",
       "                                                tags  \n",
       "0  [In, the, 22nd, century,, a, paraplegic, Marin...  \n",
       "1  [Captain, Barbossa,, long, believed, to, be, d...  \n",
       "2  [A, cryptic, message, from, Bond’s, past, send...  \n",
       "3  [Following, the, death, of, District, Attorney...  \n",
       "4  [John, Carter, is, a, war-weary,, former, mili...  "
      ]
     },
     "execution_count": 40,
     "metadata": {},
     "output_type": "execute_result"
    }
   ],
   "source": [
    "movies.head()"
   ]
  },
  {
   "cell_type": "code",
   "execution_count": 41,
   "id": "eb85dbfc-9ac0-4de1-9410-9f8913f6f224",
   "metadata": {},
   "outputs": [],
   "source": [
    "data = movies[['movie_id','title','tags']]"
   ]
  },
  {
   "cell_type": "code",
   "execution_count": 42,
   "id": "24233e82-9493-49f4-a351-4a6ea1fad965",
   "metadata": {},
   "outputs": [
    {
     "data": {
      "text/html": [
       "<div>\n",
       "<style scoped>\n",
       "    .dataframe tbody tr th:only-of-type {\n",
       "        vertical-align: middle;\n",
       "    }\n",
       "\n",
       "    .dataframe tbody tr th {\n",
       "        vertical-align: top;\n",
       "    }\n",
       "\n",
       "    .dataframe thead th {\n",
       "        text-align: right;\n",
       "    }\n",
       "</style>\n",
       "<table border=\"1\" class=\"dataframe\">\n",
       "  <thead>\n",
       "    <tr style=\"text-align: right;\">\n",
       "      <th></th>\n",
       "      <th>movie_id</th>\n",
       "      <th>title</th>\n",
       "      <th>tags</th>\n",
       "    </tr>\n",
       "  </thead>\n",
       "  <tbody>\n",
       "    <tr>\n",
       "      <th>0</th>\n",
       "      <td>19995</td>\n",
       "      <td>Avatar</td>\n",
       "      <td>[In, the, 22nd, century,, a, paraplegic, Marin...</td>\n",
       "    </tr>\n",
       "    <tr>\n",
       "      <th>1</th>\n",
       "      <td>285</td>\n",
       "      <td>Pirates of the Caribbean: At World's End</td>\n",
       "      <td>[Captain, Barbossa,, long, believed, to, be, d...</td>\n",
       "    </tr>\n",
       "    <tr>\n",
       "      <th>2</th>\n",
       "      <td>206647</td>\n",
       "      <td>Spectre</td>\n",
       "      <td>[A, cryptic, message, from, Bond’s, past, send...</td>\n",
       "    </tr>\n",
       "    <tr>\n",
       "      <th>3</th>\n",
       "      <td>49026</td>\n",
       "      <td>The Dark Knight Rises</td>\n",
       "      <td>[Following, the, death, of, District, Attorney...</td>\n",
       "    </tr>\n",
       "    <tr>\n",
       "      <th>4</th>\n",
       "      <td>49529</td>\n",
       "      <td>John Carter</td>\n",
       "      <td>[John, Carter, is, a, war-weary,, former, mili...</td>\n",
       "    </tr>\n",
       "  </tbody>\n",
       "</table>\n",
       "</div>"
      ],
      "text/plain": [
       "   movie_id                                     title  \\\n",
       "0     19995                                    Avatar   \n",
       "1       285  Pirates of the Caribbean: At World's End   \n",
       "2    206647                                   Spectre   \n",
       "3     49026                     The Dark Knight Rises   \n",
       "4     49529                               John Carter   \n",
       "\n",
       "                                                tags  \n",
       "0  [In, the, 22nd, century,, a, paraplegic, Marin...  \n",
       "1  [Captain, Barbossa,, long, believed, to, be, d...  \n",
       "2  [A, cryptic, message, from, Bond’s, past, send...  \n",
       "3  [Following, the, death, of, District, Attorney...  \n",
       "4  [John, Carter, is, a, war-weary,, former, mili...  "
      ]
     },
     "execution_count": 42,
     "metadata": {},
     "output_type": "execute_result"
    }
   ],
   "source": [
    "data.head()"
   ]
  },
  {
   "cell_type": "markdown",
   "id": "66578580-cf6c-4943-af61-257bc96fd6b4",
   "metadata": {},
   "source": [
    "now we will convert all the list to string\n",
    "lambda x: \" \".join(x) defines a short, anonymous function that does:\r\n",
    "Takes an input x (each list of tags).\r\n",
    "Joins the individual tags in x into a single string, separated by spaces, using the join() methot:\r\n",
    "\r\n",
    "The code transforms the \"tags\" column from containing lists of tags into a column of strings \n",
    "here each string is a space-separated combination of the original tags.\r\n",
    "Ex ple:\r\n",
    "\r\n",
    "If a row's tags were [\"comedy\", \"action\", \"sci-fi\"], it would become a string like: \"comedy action sci-fi\"."
   ]
  },
  {
   "cell_type": "code",
   "execution_count": 43,
   "id": "089653c4-b4bc-478d-bb00-7075282dfeaf",
   "metadata": {},
   "outputs": [
    {
     "data": {
      "text/plain": [
       "0       In the 22nd century, a paraplegic Marine is di...\n",
       "1       Captain Barbossa, long believed to be dead, ha...\n",
       "2       A cryptic message from Bond’s past sends him o...\n",
       "3       Following the death of District Attorney Harve...\n",
       "4       John Carter is a war-weary, former military ca...\n",
       "                              ...                        \n",
       "4804    El Mariachi just wants to play his guitar and ...\n",
       "4805    A newlywed couple's honeymoon is upended by th...\n",
       "4806    \"Signed, Sealed, Delivered\" introduces a dedic...\n",
       "4807    When ambitious New York attorney Sam is sent t...\n",
       "4808    Ever since the second grade when he first saw ...\n",
       "Name: tags, Length: 4806, dtype: object"
      ]
     },
     "execution_count": 43,
     "metadata": {},
     "output_type": "execute_result"
    }
   ],
   "source": [
    "data['tags'].apply(lambda x:\" \".join(x))"
   ]
  },
  {
   "cell_type": "code",
   "execution_count": 44,
   "id": "700b68fb-99a1-4077-b7ff-39cd2ba30249",
   "metadata": {},
   "outputs": [
    {
     "name": "stderr",
     "output_type": "stream",
     "text": [
      "C:\\Users\\Ardra Ajay\\AppData\\Local\\Temp\\ipykernel_18540\\39123791.py:1: SettingWithCopyWarning: \n",
      "A value is trying to be set on a copy of a slice from a DataFrame.\n",
      "Try using .loc[row_indexer,col_indexer] = value instead\n",
      "\n",
      "See the caveats in the documentation: https://pandas.pydata.org/pandas-docs/stable/user_guide/indexing.html#returning-a-view-versus-a-copy\n",
      "  data['tags'] = data['tags'].apply(lambda x:\" \".join(x))\n"
     ]
    }
   ],
   "source": [
    "data['tags'] = data['tags'].apply(lambda x:\" \".join(x))"
   ]
  },
  {
   "cell_type": "code",
   "execution_count": 45,
   "id": "5789928b-7716-472a-a000-5fad67045573",
   "metadata": {},
   "outputs": [
    {
     "data": {
      "text/plain": [
       "'Young teenager, Sam Witwicky becomes involved in the ancient struggle between two extraterrestrial factions of transforming robots – the heroic Autobots and the evil Decepticons. Sam holds the clue to unimaginable power and the Decepticons will stop at nothing to retrieve it. Adventure ScienceFiction Action destroy transformation alien basedontoy transformers robot duringcreditsstinger teenagehero ShiaLaBeouf JoshDuhamel MeganFox MichaelBay'"
      ]
     },
     "execution_count": 45,
     "metadata": {},
     "output_type": "execute_result"
    }
   ],
   "source": [
    "data['tags'].iloc[111]"
   ]
  },
  {
   "cell_type": "code",
   "execution_count": 46,
   "id": "b0d1bd09-9bd8-4dca-ba66-97bfe33f1200",
   "metadata": {},
   "outputs": [
    {
     "data": {
      "text/plain": [
       "'In the 22nd century, a paraplegic Marine is dispatched to the moon Pandora on a unique mission, but becomes torn between following orders and protecting an alien civilization. Action Adventure Fantasy ScienceFiction cultureclash future spacewar spacecolony society spacetravel futuristic romance space alien tribe alienplanet cgi marine soldier battle loveaffair antiwar powerrelations mindandsoul 3d SamWorthington ZoeSaldana SigourneyWeaver JamesCameron'"
      ]
     },
     "execution_count": 46,
     "metadata": {},
     "output_type": "execute_result"
    }
   ],
   "source": [
    "data['tags'].iloc[0]"
   ]
  },
  {
   "cell_type": "markdown",
   "id": "241b2c2e-2acc-42a3-b738-0443ee069836",
   "metadata": {},
   "source": [
    "Now we will convert all the words to lower case."
   ]
  },
  {
   "cell_type": "code",
   "execution_count": 47,
   "id": "fd6821f5-343a-4ff9-b8b4-cb2c96dda6f2",
   "metadata": {},
   "outputs": [
    {
     "data": {
      "text/plain": [
       "0       in the 22nd century, a paraplegic marine is di...\n",
       "1       captain barbossa, long believed to be dead, ha...\n",
       "2       a cryptic message from bond’s past sends him o...\n",
       "3       following the death of district attorney harve...\n",
       "4       john carter is a war-weary, former military ca...\n",
       "                              ...                        \n",
       "4804    el mariachi just wants to play his guitar and ...\n",
       "4805    a newlywed couple's honeymoon is upended by th...\n",
       "4806    \"signed, sealed, delivered\" introduces a dedic...\n",
       "4807    when ambitious new york attorney sam is sent t...\n",
       "4808    ever since the second grade when he first saw ...\n",
       "Name: tags, Length: 4806, dtype: object"
      ]
     },
     "execution_count": 47,
     "metadata": {},
     "output_type": "execute_result"
    }
   ],
   "source": [
    "data['tags'].apply(lambda x: x.lower())"
   ]
  },
  {
   "cell_type": "code",
   "execution_count": 48,
   "id": "cf2e767f-abe3-4203-952a-d3d30512fbd3",
   "metadata": {},
   "outputs": [
    {
     "name": "stderr",
     "output_type": "stream",
     "text": [
      "C:\\Users\\Ardra Ajay\\AppData\\Local\\Temp\\ipykernel_18540\\373423902.py:1: SettingWithCopyWarning: \n",
      "A value is trying to be set on a copy of a slice from a DataFrame.\n",
      "Try using .loc[row_indexer,col_indexer] = value instead\n",
      "\n",
      "See the caveats in the documentation: https://pandas.pydata.org/pandas-docs/stable/user_guide/indexing.html#returning-a-view-versus-a-copy\n",
      "  data['tags'] = data['tags'].apply(lambda x: x.lower())\n"
     ]
    }
   ],
   "source": [
    "data['tags'] = data['tags'].apply(lambda x: x.lower())"
   ]
  },
  {
   "cell_type": "code",
   "execution_count": 49,
   "id": "ba424866-35a9-4a60-9d14-e92797dc7983",
   "metadata": {},
   "outputs": [
    {
     "data": {
      "text/html": [
       "<div>\n",
       "<style scoped>\n",
       "    .dataframe tbody tr th:only-of-type {\n",
       "        vertical-align: middle;\n",
       "    }\n",
       "\n",
       "    .dataframe tbody tr th {\n",
       "        vertical-align: top;\n",
       "    }\n",
       "\n",
       "    .dataframe thead th {\n",
       "        text-align: right;\n",
       "    }\n",
       "</style>\n",
       "<table border=\"1\" class=\"dataframe\">\n",
       "  <thead>\n",
       "    <tr style=\"text-align: right;\">\n",
       "      <th></th>\n",
       "      <th>movie_id</th>\n",
       "      <th>title</th>\n",
       "      <th>tags</th>\n",
       "    </tr>\n",
       "  </thead>\n",
       "  <tbody>\n",
       "    <tr>\n",
       "      <th>0</th>\n",
       "      <td>19995</td>\n",
       "      <td>Avatar</td>\n",
       "      <td>in the 22nd century, a paraplegic marine is di...</td>\n",
       "    </tr>\n",
       "    <tr>\n",
       "      <th>1</th>\n",
       "      <td>285</td>\n",
       "      <td>Pirates of the Caribbean: At World's End</td>\n",
       "      <td>captain barbossa, long believed to be dead, ha...</td>\n",
       "    </tr>\n",
       "    <tr>\n",
       "      <th>2</th>\n",
       "      <td>206647</td>\n",
       "      <td>Spectre</td>\n",
       "      <td>a cryptic message from bond’s past sends him o...</td>\n",
       "    </tr>\n",
       "    <tr>\n",
       "      <th>3</th>\n",
       "      <td>49026</td>\n",
       "      <td>The Dark Knight Rises</td>\n",
       "      <td>following the death of district attorney harve...</td>\n",
       "    </tr>\n",
       "    <tr>\n",
       "      <th>4</th>\n",
       "      <td>49529</td>\n",
       "      <td>John Carter</td>\n",
       "      <td>john carter is a war-weary, former military ca...</td>\n",
       "    </tr>\n",
       "    <tr>\n",
       "      <th>...</th>\n",
       "      <td>...</td>\n",
       "      <td>...</td>\n",
       "      <td>...</td>\n",
       "    </tr>\n",
       "    <tr>\n",
       "      <th>4804</th>\n",
       "      <td>9367</td>\n",
       "      <td>El Mariachi</td>\n",
       "      <td>el mariachi just wants to play his guitar and ...</td>\n",
       "    </tr>\n",
       "    <tr>\n",
       "      <th>4805</th>\n",
       "      <td>72766</td>\n",
       "      <td>Newlyweds</td>\n",
       "      <td>a newlywed couple's honeymoon is upended by th...</td>\n",
       "    </tr>\n",
       "    <tr>\n",
       "      <th>4806</th>\n",
       "      <td>231617</td>\n",
       "      <td>Signed, Sealed, Delivered</td>\n",
       "      <td>\"signed, sealed, delivered\" introduces a dedic...</td>\n",
       "    </tr>\n",
       "    <tr>\n",
       "      <th>4807</th>\n",
       "      <td>126186</td>\n",
       "      <td>Shanghai Calling</td>\n",
       "      <td>when ambitious new york attorney sam is sent t...</td>\n",
       "    </tr>\n",
       "    <tr>\n",
       "      <th>4808</th>\n",
       "      <td>25975</td>\n",
       "      <td>My Date with Drew</td>\n",
       "      <td>ever since the second grade when he first saw ...</td>\n",
       "    </tr>\n",
       "  </tbody>\n",
       "</table>\n",
       "<p>4806 rows × 3 columns</p>\n",
       "</div>"
      ],
      "text/plain": [
       "      movie_id                                     title  \\\n",
       "0        19995                                    Avatar   \n",
       "1          285  Pirates of the Caribbean: At World's End   \n",
       "2       206647                                   Spectre   \n",
       "3        49026                     The Dark Knight Rises   \n",
       "4        49529                               John Carter   \n",
       "...        ...                                       ...   \n",
       "4804      9367                               El Mariachi   \n",
       "4805     72766                                 Newlyweds   \n",
       "4806    231617                 Signed, Sealed, Delivered   \n",
       "4807    126186                          Shanghai Calling   \n",
       "4808     25975                         My Date with Drew   \n",
       "\n",
       "                                                   tags  \n",
       "0     in the 22nd century, a paraplegic marine is di...  \n",
       "1     captain barbossa, long believed to be dead, ha...  \n",
       "2     a cryptic message from bond’s past sends him o...  \n",
       "3     following the death of district attorney harve...  \n",
       "4     john carter is a war-weary, former military ca...  \n",
       "...                                                 ...  \n",
       "4804  el mariachi just wants to play his guitar and ...  \n",
       "4805  a newlywed couple's honeymoon is upended by th...  \n",
       "4806  \"signed, sealed, delivered\" introduces a dedic...  \n",
       "4807  when ambitious new york attorney sam is sent t...  \n",
       "4808  ever since the second grade when he first saw ...  \n",
       "\n",
       "[4806 rows x 3 columns]"
      ]
     },
     "execution_count": 49,
     "metadata": {},
     "output_type": "execute_result"
    }
   ],
   "source": [
    "data"
   ]
  },
  {
   "cell_type": "markdown",
   "id": "43b58403-cd22-4c5b-8698-3604dd3cee37",
   "metadata": {},
   "source": [
    "## Stemming"
   ]
  },
  {
   "cell_type": "markdown",
   "id": "76d75918-1b7e-4c55-af0a-e1fa50523c0b",
   "metadata": {},
   "source": [
    "now there is a problem the same word that is in different tenses for example acton and actions are both counted as the most occuring, this is not good.\n",
    "it should be a single word. next problem is digits getting counted as the most frequent but it might have some contextual meaning. like 1960 is a year.\n",
    "so now we will apply atechnique called stemming now what does this do? say you have  alist ['loved','loving',loves'] if we apply stemming on this then \n",
    "the answer will be ['love', 'love', 'love' ] it will help us deal with all the english tenses. stemming comes in nltk library."
   ]
  },
  {
   "cell_type": "code",
   "execution_count": 50,
   "id": "c16cf857-3e54-4695-ad0e-b46802a187a3",
   "metadata": {},
   "outputs": [],
   "source": [
    "import nltk"
   ]
  },
  {
   "cell_type": "code",
   "execution_count": 51,
   "id": "a8d595b2-a0e9-4ed0-9943-4a97e406ada4",
   "metadata": {},
   "outputs": [],
   "source": [
    "from nltk.stem.porter import PorterStemmer \n",
    "ps = PorterStemmer()"
   ]
  },
  {
   "cell_type": "code",
   "execution_count": 52,
   "id": "301204dd-d272-4216-96e2-4c596e090cce",
   "metadata": {},
   "outputs": [],
   "source": [
    "def stem(text):\n",
    "    y = [] # empty list\n",
    "\n",
    "    for i in text.split():   # Conveting to list\n",
    "      y.append( ps.stem(i))\n",
    "        \n",
    "    # Converting list back to string\n",
    "    return  \" \".join(y)\n"
   ]
  },
  {
   "cell_type": "code",
   "execution_count": 53,
   "id": "6df07ff2-d0e3-44ae-a949-7a31cc505ed4",
   "metadata": {},
   "outputs": [
    {
     "data": {
      "text/plain": [
       "0       in the 22nd century, a parapleg marin is dispa...\n",
       "1       captain barbossa, long believ to be dead, ha c...\n",
       "2       a cryptic messag from bond’ past send him on a...\n",
       "3       follow the death of district attorney harvey d...\n",
       "4       john carter is a war-weary, former militari ca...\n",
       "                              ...                        \n",
       "4804    el mariachi just want to play hi guitar and ca...\n",
       "4805    a newlyw couple' honeymoon is upend by the arr...\n",
       "4806    \"signed, sealed, delivered\" introduc a dedic q...\n",
       "4807    when ambiti new york attorney sam is sent to s...\n",
       "4808    ever sinc the second grade when he first saw h...\n",
       "Name: tags, Length: 4806, dtype: object"
      ]
     },
     "execution_count": 53,
     "metadata": {},
     "output_type": "execute_result"
    }
   ],
   "source": [
    "data.tags.apply(stem)"
   ]
  },
  {
   "cell_type": "code",
   "execution_count": 54,
   "id": "9d92b87c-7a8f-4df9-8d45-2273f7ffdf3e",
   "metadata": {},
   "outputs": [
    {
     "data": {
      "text/plain": [
       "'love'"
      ]
     },
     "execution_count": 54,
     "metadata": {},
     "output_type": "execute_result"
    }
   ],
   "source": [
    "ps.stem('loved')"
   ]
  },
  {
   "cell_type": "code",
   "execution_count": 55,
   "id": "3de216b2-fe3d-4599-b305-35d034b267ff",
   "metadata": {},
   "outputs": [
    {
     "data": {
      "text/plain": [
       "'smile'"
      ]
     },
     "execution_count": 55,
     "metadata": {},
     "output_type": "execute_result"
    }
   ],
   "source": [
    "ps.stem('smiling') "
   ]
  },
  {
   "cell_type": "code",
   "execution_count": 56,
   "id": "d29afc48-837e-402b-b7dd-6b3184a9c20d",
   "metadata": {},
   "outputs": [
    {
     "data": {
      "text/plain": [
       "'she wa sing when i saw her yesterday she is sing right now she sing all day'"
      ]
     },
     "execution_count": 56,
     "metadata": {},
     "output_type": "execute_result"
    }
   ],
   "source": [
    "stem(\"She was singing when I saw her yesterday she is singing right now she sings all day\")"
   ]
  },
  {
   "cell_type": "code",
   "execution_count": 57,
   "id": "46366502-cecc-4bc2-afe1-e5b4e4191eb9",
   "metadata": {},
   "outputs": [
    {
     "data": {
      "text/plain": [
       "'in the 22nd century, a paraplegic marine is dispatched to the moon pandora on a unique mission, but becomes torn between following orders and protecting an alien civilization. action adventure fantasy sciencefiction cultureclash future spacewar spacecolony society spacetravel futuristic romance space alien tribe alienplanet cgi marine soldier battle loveaffair antiwar powerrelations mindandsoul 3d samworthington zoesaldana sigourneyweaver jamescameron'"
      ]
     },
     "execution_count": 57,
     "metadata": {},
     "output_type": "execute_result"
    }
   ],
   "source": [
    "data['tags'][0]"
   ]
  },
  {
   "cell_type": "code",
   "execution_count": 58,
   "id": "6e91ff46-da9b-465f-94df-508039790912",
   "metadata": {},
   "outputs": [
    {
     "data": {
      "text/plain": [
       "\"captain barbossa, long believed to be dead, has come back to life and is headed to the edge of the earth with will turner and elizabeth swann. but nothing is quite as it seems. adventure fantasy action ocean drugabuse exoticisland eastindiatradingcompany loveofone'slife traitor shipwreck strongwoman ship alliance calypso afterlife fighter pirate swashbuckler aftercreditsstinger johnnydepp orlandobloom keiraknightley goreverbinski\""
      ]
     },
     "execution_count": 58,
     "metadata": {},
     "output_type": "execute_result"
    }
   ],
   "source": [
    "data['tags'][1]"
   ]
  },
  {
   "cell_type": "markdown",
   "id": "5d8a1c35-759a-4818-8bf9-59e93e21c33e",
   "metadata": {},
   "source": [
    "##  Text Vectorization"
   ]
  },
  {
   "cell_type": "markdown",
   "id": "f6f5a828-6df9-4daa-ae36-7091f9870090",
   "metadata": {},
   "source": [
    "We should calculate the similarty between the text in  the first row of tag and the the second row. We have to calculate the similarity score.\n",
    "For that we will perform vectorization. \n",
    "\n",
    "Explanation in simple terms: \n",
    "\n",
    "assume a 2D graph with x and y coordinates. Now plot two points say (7,2) and (4,2) these are vectors\n",
    "now we will makes vectors of each text under 'tags' coloumn and ptot it then we will see that there are 5000 vectors as there are 5000 movies.\n",
    "vectors that are simiar are close to each other. we recommend the closest vectors which means they are the most similar.\n",
    "\n",
    "closest vectors are those vectors that have tags which have so many similar words. \n",
    "\n",
    "so when a person likes a movie ( say vector x) we will look for what is closer to x and suggest it. this is called  text vectorization\n",
    "\n",
    "Term frequency Inverse document frequency (TFIDF) and Bag of words are two popular techniques to covert text to vectors."
   ]
  },
  {
   "cell_type": "markdown",
   "id": "ad24da79-ebc8-44f8-8b8b-6d6b54ef35e5",
   "metadata": {},
   "source": [
    "## Bag Of Words"
   ]
  },
  {
   "cell_type": "markdown",
   "id": "ee302668-7ae7-44ce-b226-149bcd98b049",
   "metadata": {},
   "source": [
    "Every movie has a Tag we combine all the tags (we concatinate all the tags)  and then if each tag and has 100 words\n",
    "and we have 500 tags then after combing we get a 50000 words tag. let's call it large text.\n",
    "Now from this large text we will look for 5000 most common words we will calculate each words frequency.\n",
    "Extract the most frequent: Word1, Word2, .... Word5000\n",
    "\n",
    "\n",
    "now we will take the tag of each movie and let's say word1 most frequent in large text is action.\n",
    "Now we will take the first tag and see how many times the word action is there in that movie/tag 1\n",
    "Now we will take Word2 most frequent in large text and see how many times it was repeated in tag 2\n",
    "Now we will do the same for every 5000 words for all the tags.\n",
    "\n",
    "Now we will have a table in that for each tag it will show the frequency of \n",
    "word1 word2 .... word5000\n",
    "like (5,6,3,0,20,45,22....3)  [this is a vector of a movie/tag]\n",
    "\n",
    "Now each row of the table is actually a vector movie1 became a vector so did all the 500 movies.\n",
    "\n",
    "Now why did we only take 5000 frequent words from large text? This is because each the more number of words we take the dimentionlaity \n",
    "of the data will increase we want to avoid the curose of dimentionality when there are so many dimensions it gets too complex for the algoritm to \n",
    "work on and the accuracy decreases."
   ]
  },
  {
   "cell_type": "code",
   "execution_count": 59,
   "id": "1ee0c351-1493-4b3d-92d7-d4a821643a21",
   "metadata": {},
   "outputs": [],
   "source": [
    "from sklearn.feature_extraction.text import CountVectorizer\n",
    "cv = CountVectorizer(max_features=5000,stop_words= 'english')      # max feature for telling how many words we should take setting word1 ... word 5000"
   ]
  },
  {
   "cell_type": "code",
   "execution_count": 60,
   "id": "afcf99d2-95ca-4d42-8fd4-dd5fdad25d5e",
   "metadata": {},
   "outputs": [],
   "source": [
    "vectors =cv.fit_transform(data['tags']).toarray()\n"
   ]
  },
  {
   "cell_type": "markdown",
   "id": "8476c17e-563b-4e19-9601-9d6720079701",
   "metadata": {},
   "source": [
    "here we are getting the vector for each tag/movie (5,6,3,0,20,45,22....3)\n",
    "that is how may times each word1...word5 repeated in amovie is the vector for that movie.\n",
    "                            "
   ]
  },
  {
   "cell_type": "code",
   "execution_count": 61,
   "id": "e463a859-cf4c-4610-9648-483838806198",
   "metadata": {},
   "outputs": [
    {
     "data": {
      "text/plain": [
       "array([[0, 0, 0, ..., 0, 0, 0],\n",
       "       [0, 0, 0, ..., 0, 0, 0],\n",
       "       [0, 0, 0, ..., 0, 0, 0],\n",
       "       ...,\n",
       "       [0, 0, 0, ..., 0, 0, 0],\n",
       "       [0, 0, 0, ..., 0, 0, 0],\n",
       "       [0, 0, 0, ..., 0, 0, 0]], dtype=int64)"
      ]
     },
     "execution_count": 61,
     "metadata": {},
     "output_type": "execute_result"
    }
   ],
   "source": [
    "vectors"
   ]
  },
  {
   "cell_type": "code",
   "execution_count": 62,
   "id": "5abccc73-063c-4867-a5c1-4d3a80501041",
   "metadata": {},
   "outputs": [
    {
     "data": {
      "text/plain": [
       "array([0, 0, 0, ..., 0, 0, 0], dtype=int64)"
      ]
     },
     "execution_count": 62,
     "metadata": {},
     "output_type": "execute_result"
    }
   ],
   "source": [
    "vectors[1]"
   ]
  },
  {
   "cell_type": "markdown",
   "id": "460fac90-069c-4192-82dd-61894b1a6d69",
   "metadata": {},
   "source": [
    "cv (count vectorizer we made) has many objects one of the objects is get_features_out\n",
    "cv.get_feature_names_out() gives us a list of 5000 items and these 5000 items are the words that are most occuring 5000 words that was in large text.\n",
    "It will be alphabettically arranged.\n",
    "now there is a problem the same word that is in different tenses for example acton and actions are both counted as the most occuring, this is not good.\n",
    "it should be a single word. next problem is digits getting counted as the most frequent but it might have some contextual meaning. like 1960 is a year.\n",
    "so now we will apply atechnique called stemming now what does this do? say you have  alist ['loved','loving',loves'] if we apply stemming on this then \n",
    "the answer will be ['love', 'love', 'love' ] it will help us deal with all the english tenses. after stemming the same word will not repeat again"
   ]
  },
  {
   "cell_type": "markdown",
   "id": "24a02a1a-74a5-4ade-8a35-76ede0a6b3f5",
   "metadata": {},
   "source": [
    "## cv.get_feature_names_out()"
   ]
  },
  {
   "cell_type": "code",
   "execution_count": 63,
   "id": "3e6ceb47-c58b-4183-926f-24107825d4a6",
   "metadata": {},
   "outputs": [
    {
     "data": {
      "text/plain": [
       "5000"
      ]
     },
     "execution_count": 63,
     "metadata": {},
     "output_type": "execute_result"
    }
   ],
   "source": [
    "len(cv.get_feature_names_out())"
   ]
  },
  {
   "cell_type": "markdown",
   "id": "7799069c-19c6-4680-8eab-0e0a0f570133",
   "metadata": {},
   "source": [
    "In total we have 4806 movies which means in total we have 4806 vectors since each movie is now represented as a vector.\n",
    "And each vector has 5000 numbers. Now that means we are talking about a 5000 dimentional space coordinate where each movie is a vector.\n",
    "Now we have to calculate the distance of each movie to every other movies. If the distance is short then similarity is high,\n",
    "if the distance is more the the similarity is more.\n",
    "\n",
    "here we will not be calculating the euclidean distance which means if there are twi vectors the tip to tip distance is called euclidian distance.\n",
    "instead we will calculate the angle between them this is called cosine difference if the angle is 0 means it's the same vector if the angle is 5 then very small distance meany very similar movie if the angle is 180 which means very large difference the movie is completely opposite.\n",
    "Distance is inversly proportional to similarity less distance more similar.\n",
    "\n",
    "NOTE : When we are working with high demensional data the euclidian distance fails it is not a good measure "
   ]
  },
  {
   "cell_type": "code",
   "execution_count": 64,
   "id": "5598c159-4bc0-4861-86f2-a41ba67452b0",
   "metadata": {},
   "outputs": [],
   "source": [
    "from sklearn.metrics.pairwise import  cosine_similarity #will always be in range of 1 to 0 if 0 not at all similar if 1 very similar "
   ]
  },
  {
   "cell_type": "code",
   "execution_count": 65,
   "id": "71f14b84-a76e-43d6-ae70-90ce5c133ff0",
   "metadata": {},
   "outputs": [],
   "source": [
    "similarity = cosine_similarity(vectors)"
   ]
  },
  {
   "cell_type": "code",
   "execution_count": 66,
   "id": "5f812b9d-f0ac-4d98-9f0a-fd66c5c87740",
   "metadata": {},
   "outputs": [
    {
     "data": {
      "text/plain": [
       "(4806, 4806)"
      ]
     },
     "execution_count": 66,
     "metadata": {},
     "output_type": "execute_result"
    }
   ],
   "source": [
    " cosine_similarity(vectors).shape"
   ]
  },
  {
   "cell_type": "code",
   "execution_count": 67,
   "id": "3e6b28e2-692a-4ee5-ac69-a098e105349d",
   "metadata": {},
   "outputs": [
    {
     "data": {
      "text/plain": [
       "array([1.        , 0.08964215, 0.05976143, ..., 0.02519763, 0.02817181,\n",
       "       0.        ])"
      ]
     },
     "execution_count": 67,
     "metadata": {},
     "output_type": "execute_result"
    }
   ],
   "source": [
    "similarity[0]\n",
    "# if we take out the first array of similarity what is it? \n",
    "# It is the fist movie's similarity with every other movie "
   ]
  },
  {
   "cell_type": "code",
   "execution_count": 68,
   "id": "e01cabed-ea1c-4a95-9ca3-d9f33d277622",
   "metadata": {},
   "outputs": [
    {
     "data": {
      "text/plain": [
       "(4806,)"
      ]
     },
     "execution_count": 68,
     "metadata": {},
     "output_type": "execute_result"
    }
   ],
   "source": [
    "similarity[0].shape\n",
    "#it will have 4806 items that is the total number of similarities of first movie with every other movie including itself "
   ]
  },
  {
   "cell_type": "code",
   "execution_count": 69,
   "id": "e61455ef-f12a-4563-b0ca-2ed739de0124",
   "metadata": {},
   "outputs": [
    {
     "data": {
      "text/plain": [
       "[(0, 1.0),\n",
       " (1, 0.08964214570007951),\n",
       " (2, 0.059761430466719674),\n",
       " (3, 0.03984095364447979),\n",
       " (4, 0.18257418583505536),\n",
       " (5, 0.1183452670827877),\n",
       " (6, 0.02258769757263128),\n",
       " (7, 0.1763834207376394),\n",
       " (8, 0.061721339984836754),\n",
       " (9, 0.07644707871564382),\n",
       " (10, 0.11769797726729994),\n",
       " (11, 0.081199794294115),\n",
       " (12, 0.09583148474999097),\n",
       " (13, 0.04733810683311508),\n",
       " (14, 0.11428571428571427),\n",
       " (15, 0.05096471914376255),\n",
       " (16, 0.08226127456606226),\n",
       " (17, 0.15026857675938213),\n",
       " (18, 0.1129384878631564),\n",
       " (19, 0.08728715609439694),\n",
       " (20, 0.058167505074711086),\n",
       " (21, 0.09583148474999097),\n",
       " (22, 0.07049073768502413),\n",
       " (23, 0.09583148474999097),\n",
       " (24, 0.0563436169819011),\n",
       " (25, 0.036454130828824455),\n",
       " (26, 0.17142857142857143),\n",
       " (27, 0.18935242733246033),\n",
       " (28, 0.12555296411486888),\n",
       " (29, 0.07100716024967263),\n",
       " (30, 0.07319250547113999),\n",
       " (31, 0.16265001215808886),\n",
       " (32, 0.09116846116771035),\n",
       " (33, 0.10350983390135313),\n",
       " (34, 0.0),\n",
       " (35, 0.10350983390135313),\n",
       " (36, 0.18478728707195913),\n",
       " (37, 0.08451542547285165),\n",
       " (38, 0.0628970902033151),\n",
       " (39, 0.08827348295047496),\n",
       " (40, 0.0563436169819011),\n",
       " (41, 0.14638501094227999),\n",
       " (42, 0.0),\n",
       " (43, 0.09759000729485333),\n",
       " (44, 0.03984095364447979),\n",
       " (45, 0.09116846116771035),\n",
       " (46, 0.17654696590094993),\n",
       " (47, 0.2164218276749025),\n",
       " (48, 0.06776309271789384),\n",
       " (49, 0.06388765649999398),\n",
       " (50, 0.12143534814378325),\n",
       " (51, 0.086568731069961),\n",
       " (52, 0.1389425035941821),\n",
       " (53, 0.04984447862792268),\n",
       " (54, 0.035245368842512066),\n",
       " (55, 0.07859774918918593),\n",
       " (56, 0.14414999403128942),\n",
       " (57, 0.028988551782622416),\n",
       " (58, 0.04688072309384954),\n",
       " (59, 0.08024108542850393),\n",
       " (60, 0.028571428571428567),\n",
       " (61, 0.22131333406899523),\n",
       " (62, 0.08199200616907877),\n",
       " (63, 0.09200874124564722),\n",
       " (64, 0.03138824102871722),\n",
       " (65, 0.020965696734438367),\n",
       " (66, 0.02492223931396134),\n",
       " (67, 0.17928429140015903),\n",
       " (68, 0.13522468075656266),\n",
       " (69, 0.0520265981714472),\n",
       " (70, 0.08696565534786725),\n",
       " (71, 0.081199794294115),\n",
       " (72, 0.12344267996967351),\n",
       " (73, 0.03688555567816587),\n",
       " (74, 0.2267786838055363),\n",
       " (75, 0.09107651110783743),\n",
       " (76, 0.07733088933397005),\n",
       " (77, 0.014824986333222025),\n",
       " (78, 0.0515539262226467),\n",
       " (79, 0.0791945516022682),\n",
       " (80, 0.03450327796711771),\n",
       " (81, 0.11710800875382396),\n",
       " (82, 0.08336550215650926),\n",
       " (83, 0.22190115272469205),\n",
       " (84, 0.1456438162508838),\n",
       " (85, 0.10631548679075009),\n",
       " (86, 0.08827348295047496),\n",
       " (87, 0.11595420713048966),\n",
       " (88, 0.09107651110783743),\n",
       " (89, 0.06121333677828399),\n",
       " (90, 0.06506000486323554),\n",
       " (91, 0.15971914124998493),\n",
       " (92, 0.0703210846407743),\n",
       " (93, 0.05096471914376255),\n",
       " (94, 0.16574838603294897),\n",
       " (95, 0.1246111965698067),\n",
       " (96, 0.08964214570007951),\n",
       " (97, 0.07476671794188401),\n",
       " (98, 0.09107651110783743),\n",
       " (99, 0.029424494316824985),\n",
       " (100, 0.07377111135633174),\n",
       " (101, 0.08827348295047496),\n",
       " (102, 0.11194341570991125),\n",
       " (103, 0.0880237696271323),\n",
       " (104, 0.059761430466719674),\n",
       " (105, 0.10811249552346706),\n",
       " (106, 0.0447773662839645),\n",
       " (107, 0.09200874124564722),\n",
       " (108, 0.16903085094570328),\n",
       " (109, 0.07968190728895957),\n",
       " (110, 0.024655683636076894),\n",
       " (111, 0.15179418517972906),\n",
       " (112, 0.09258200997725513),\n",
       " (113, 0.052164053095730106),\n",
       " (114, 0.0515539262226467),\n",
       " (115, 0.055577001437672836),\n",
       " (116, 0.057142857142857134),\n",
       " (117, 0.060717674071891624),\n",
       " (118, 0.017622684421256033),\n",
       " (119, 0.04829452884162951),\n",
       " (120, 0.0),\n",
       " (121, 0.09107651110783743),\n",
       " (122, 0.09759000729485331),\n",
       " (123, 0.12327841818038447),\n",
       " (124, 0.06776309271789384),\n",
       " (125, 0.08021849185198157),\n",
       " (126, 0.11595420713048966),\n",
       " (127, 0.13662601021279464),\n",
       " (128, 0.0),\n",
       " (129, 0.10559273546969093),\n",
       " (130, 0.03194382824999699),\n",
       " (131, 0.1126872339638022),\n",
       " (132, 0.04733810683311508),\n",
       " (133, 0.033806170189140665),\n",
       " (134, 0.13522468075656266),\n",
       " (135, 0.0),\n",
       " (136, 0.025482359571881275),\n",
       " (137, 0.03450327796711771),\n",
       " (138, 0.08336550215650926),\n",
       " (139, 0.10910894511799617),\n",
       " (140, 0.05096471914376255),\n",
       " (141, 0.11633501014942217),\n",
       " (142, 0.0994490316197694),\n",
       " (143, 0.06965451903188581),\n",
       " (144, 0.055577001437672836),\n",
       " (145, 0.02258769757263128),\n",
       " (146, 0.017434201093860163),\n",
       " (147, 0.06277648205743444),\n",
       " (148, 0.1057361065275362),\n",
       " (149, 0.17173551629643674),\n",
       " (150, 0.1901597073139162),\n",
       " (151, 0.19920476822239894),\n",
       " (152, 0.06388765649999398),\n",
       " (153, 0.08586775814821836),\n",
       " (154, 0.033149677206589796),\n",
       " (155, 0.0),\n",
       " (156, 0.06716604942594674),\n",
       " (157, 0.1057361065275362),\n",
       " (158, 0.15289415743128765),\n",
       " (159, 0.06761234037828133),\n",
       " (160, 0.09569487529386908),\n",
       " (161, 0.035245368842512066),\n",
       " (162, 0.03688555567816587),\n",
       " (163, 0.052796367734845466),\n",
       " (164, 0.09258200997725513),\n",
       " (165, 0.05039526306789696),\n",
       " (166, 0.11952286093343935),\n",
       " (167, 0.06761234037828133),\n",
       " (168, 0.16035674514745463),\n",
       " (169, 0.11952286093343936),\n",
       " (170, 0.09200874124564722),\n",
       " (171, 0.029880715233359837),\n",
       " (172, 0.15118578920369088),\n",
       " (173, 0.02492223931396134),\n",
       " (174, 0.11115400287534567),\n",
       " (175, 0.0515539262226467),\n",
       " (176, 0.030860669992418377),\n",
       " (177, 0.0),\n",
       " (178, 0.02577696311132335),\n",
       " (179, 0.07755667343294811),\n",
       " (180, 0.023002185311411804),\n",
       " (181, 0.02344036154692477),\n",
       " (182, 0.10826639239215334),\n",
       " (183, 0.07466533929465573),\n",
       " (184, 0.18257418583505539),\n",
       " (185, 0.055577001437672836),\n",
       " (186, 0.04040610178208843),\n",
       " (187, 0.14085904245475275),\n",
       " (188, 0.022792115291927588),\n",
       " (189, 0.08199200616907877),\n",
       " (190, 0.08386278693775347),\n",
       " (191, 0.05096471914376255),\n",
       " (192, 0.0),\n",
       " (193, 0.0880237696271323),\n",
       " (194, 0.0),\n",
       " (195, 0.06506000486323554),\n",
       " (196, 0.05797710356524483),\n",
       " (197, 0.047809144373375745),\n",
       " (198, 0.059761430466719674),\n",
       " (199, 0.11609086505314302),\n",
       " (200, 0.07968190728895957),\n",
       " (201, 0.0),\n",
       " (202, 0.03450327796711771),\n",
       " (203, 0.08827348295047496),\n",
       " (204, 0.02577696311132335),\n",
       " (205, 0.07968190728895957),\n",
       " (206, 0.1183452670827877),\n",
       " (207, 0.0857142857142857),\n",
       " (208, 0.1690308509457033),\n",
       " (209, 0.03779644730092272),\n",
       " (210, 0.05484084971070818),\n",
       " (211, 0.027066598098038335),\n",
       " (212, 0.07644707871564382),\n",
       " (213, 0.06492654830247076),\n",
       " (214, 0.029880715233359837),\n",
       " (215, 0.07319250547113999),\n",
       " (216, 0.06506000486323554),\n",
       " (217, 0.045584230583855176),\n",
       " (218, 0.042257712736425826),\n",
       " (219, 0.06629935441317959),\n",
       " (220, 0.18832944617230335),\n",
       " (221, 0.024655683636076894),\n",
       " (222, 0.09035079029052512),\n",
       " (223, 0.08336550215650926),\n",
       " (224, 0.06338656910463875),\n",
       " (225, 0.052796367734845466),\n",
       " (226, 0.029880715233359837),\n",
       " (227, 0.09258200997725513),\n",
       " (228, 0.12741179785940637),\n",
       " (229, 0.07755667343294811),\n",
       " (230, 0.08322503785764788),\n",
       " (231, 0.0),\n",
       " (232, 0.11952286093343935),\n",
       " (233, 0.1057361065275362),\n",
       " (234, 0.06776309271789384),\n",
       " (235, 0.059761430466719674),\n",
       " (236, 0.09583148474999097),\n",
       " (237, 0.06900655593423542),\n",
       " (238, 0.12777531299998796),\n",
       " (239, 0.1109741904046188),\n",
       " (240, 0.05096471914376255),\n",
       " (241, 0.08964214570007951),\n",
       " (242, 0.09416472308615166),\n",
       " (243, 0.09968895725584535),\n",
       " (244, 0.06277648205743444),\n",
       " (245, 0.09107651110783743),\n",
       " (246, 0.06601782722034923),\n",
       " (247, 0.0),\n",
       " (248, 0.04733810683311508),\n",
       " (249, 0.14414999403128942),\n",
       " (250, 0.0),\n",
       " (251, 0.042257712736425826),\n",
       " (252, 0.022792115291927588),\n",
       " (253, 0.06776309271789384),\n",
       " (254, 0.08226127456606226),\n",
       " (255, 0.0),\n",
       " (256, 0.08199200616907877),\n",
       " (257, 0.0857142857142857),\n",
       " (258, 0.02344036154692477),\n",
       " (259, 0.06388765649999398),\n",
       " (260, 0.25110592822973776),\n",
       " (261, 0.025482359571881275),\n",
       " (262, 0.07319250547113999),\n",
       " (263, 0.1057361065275362),\n",
       " (264, 0.0),\n",
       " (265, 0.029424494316824985),\n",
       " (266, 0.11115400287534567),\n",
       " (267, 0.07207499701564471),\n",
       " (268, 0.02742042485535409),\n",
       " (269, 0.033149677206589796),\n",
       " (270, 0.1031078524452934),\n",
       " (271, 0.0791945516022682),\n",
       " (272, 0.030860669992418377),\n",
       " (273, 0.024147264420814756),\n",
       " (274, 0.08095109602454656),\n",
       " (275, 0.12555296411486888),\n",
       " (276, 0.06629935441317959),\n",
       " (277, 0.06601782722034923),\n",
       " (278, 0.1031078524452934),\n",
       " (279, 0.1031078524452934),\n",
       " (280, 0.0),\n",
       " (281, 0.07319250547113999),\n",
       " (282, 0.030860669992418377),\n",
       " (283, 0.0),\n",
       " (284, 0.020348923188911988),\n",
       " (285, 0.022792115291927588),\n",
       " (286, 0.02258769757263128),\n",
       " (287, 0.02742042485535409),\n",
       " (288, 0.0),\n",
       " (289, 0.05039526306789696),\n",
       " (290, 0.06629935441317959),\n",
       " (291, 0.0563436169819011),\n",
       " (292, 0.10141851056742199),\n",
       " (293, 0.03194382824999699),\n",
       " (294, 0.11952286093343935),\n",
       " (295, 0.10968169942141635),\n",
       " (296, 0.041300810278220045),\n",
       " (297, 0.048795003647426664),\n",
       " (298, 0.0),\n",
       " (299, 0.041300810278220045),\n",
       " (300, 0.18478728707195913),\n",
       " (301, 0.1831403087002079),\n",
       " (302, 0.059761430466719674),\n",
       " (303, 0.028988551782622416),\n",
       " (304, 0.07207499701564471),\n",
       " (305, 0.1932024558334913),\n",
       " (306, 0.09416472308615166),\n",
       " (307, 0.10460520656316097),\n",
       " (308, 0.07049073768502413),\n",
       " (309, 0.06629935441317959),\n",
       " (310, 0.036244018814637485),\n",
       " (311, 0.1564921592871903),\n",
       " (312, 0.11115400287534567),\n",
       " (313, 0.07968190728895957),\n",
       " (314, 0.0),\n",
       " (315, 0.09107651110783743),\n",
       " (316, 0.0),\n",
       " (317, 0.0),\n",
       " (318, 0.0),\n",
       " (319, 0.07207499701564471),\n",
       " (320, 0.033806170189140665),\n",
       " (321, 0.0),\n",
       " (322, 0.22230800575069135),\n",
       " (323, 0.03253000243161777),\n",
       " (324, 0.026398183867422733),\n",
       " (325, 0.11338934190276817),\n",
       " (326, 0.059761430466719674),\n",
       " (327, 0.029424494316824985),\n",
       " (328, 0.0),\n",
       " (329, 0.08336550215650926),\n",
       " (330, 0.1126872339638022),\n",
       " (331, 0.04984447862792268),\n",
       " (332, 0.1449427589131121),\n",
       " (333, 0.030860669992418377),\n",
       " (334, 0.10690449676496976),\n",
       " (335, 0.055577001437672836),\n",
       " (336, 0.07377111135633174),\n",
       " (337, 0.024147264420814756),\n",
       " (338, 0.0),\n",
       " (339, 0.057142857142857134),\n",
       " (340, 0.052796367734845466),\n",
       " (341, 0.061721339984836754),\n",
       " (342, 0.13662601021279464),\n",
       " (343, 0.022792115291927588),\n",
       " (344, 0.03138824102871722),\n",
       " (345, 0.02366905341655754),\n",
       " (346, 0.0),\n",
       " (347, 0.0),\n",
       " (348, 0.06761234037828133),\n",
       " (349, 0.09258200997725513),\n",
       " (350, 0.05484084971070818),\n",
       " (351, 0.0),\n",
       " (352, 0.029880715233359837),\n",
       " (353, 0.023904572186687872),\n",
       " (354, 0.0),\n",
       " (355, 0.03984095364447979),\n",
       " (356, 0.09107651110783743),\n",
       " (357, 0.0),\n",
       " (358, 0.06506000486323554),\n",
       " (359, 0.03450327796711771),\n",
       " (360, 0.0),\n",
       " (361, 0.057142857142857134),\n",
       " (362, 0.09759000729485331),\n",
       " (363, 0.09116846116771035),\n",
       " (364, 0.026082026547865053),\n",
       " (365, 0.081199794294115),\n",
       " (366, 0.059761430466719674),\n",
       " (367, 0.0),\n",
       " (368, 0.13522468075656266),\n",
       " (369, 0.09258200997725513),\n",
       " (370, 0.0563436169819011),\n",
       " (371, 0.1031078524452934),\n",
       " (372, 0.05345224838248488),\n",
       " (373, 0.17622684421256035),\n",
       " (374, 0.04401188481356615),\n",
       " (375, 0.0432843655349805),\n",
       " (376, 0.048795003647426664),\n",
       " (377, 0.0),\n",
       " (378, 0.0),\n",
       " (379, 0.05345224838248487),\n",
       " (380, 0.02817180849095055),\n",
       " (381, 0.09035079029052512),\n",
       " (382, 0.0),\n",
       " (383, 0.0515539262226467),\n",
       " (384, 0.03253000243161777),\n",
       " (385, 0.0),\n",
       " (386, 0.023218173010628604),\n",
       " (387, 0.027066598098038335),\n",
       " (388, 0.0),\n",
       " (389, 0.09944903161976938),\n",
       " (390, 0.028571428571428567),\n",
       " (391, 0.061046769566735964),\n",
       " (392, 0.03138824102871722),\n",
       " (393, 0.0),\n",
       " (394, 0.026082026547865053),\n",
       " (395, 0.057142857142857134),\n",
       " (396, 0.02344036154692477),\n",
       " (397, 0.055577001437672836),\n",
       " (398, 0.0),\n",
       " (399, 0.02577696311132335),\n",
       " (400, 0.10350983390135313),\n",
       " (401, 0.03194382824999699),\n",
       " (402, 0.06277648205743444),\n",
       " (403, 0.1109741904046188),\n",
       " (404, 0.06761234037828133),\n",
       " (405, 0.030860669992418377),\n",
       " (406, 0.021821789023599235),\n",
       " (407, 0.02577696311132335),\n",
       " (408, 0.03688555567816587),\n",
       " (409, 0.0),\n",
       " (410, 0.10079052613579392),\n",
       " (411, 0.05797710356524483),\n",
       " (412, 0.1031078524452934),\n",
       " (413, 0.1389425035941821),\n",
       " (414, 0.033149677206589796),\n",
       " (415, 0.0708769911938334),\n",
       " (416, 0.0563436169819011),\n",
       " (417, 0.03450327796711771),\n",
       " (418, 0.03779644730092272),\n",
       " (419, 0.07644707871564382),\n",
       " (420, 0.12888481555661674),\n",
       " (421, 0.0),\n",
       " (422, 0.14754222271266348),\n",
       " (423, 0.0515539262226467),\n",
       " (424, 0.040697846377823976),\n",
       " (425, 0.07100716024967263),\n",
       " (426, 0.06195121541733006),\n",
       " (427, 0.030860669992418377),\n",
       " (428, 0.05976143046671968),\n",
       " (429, 0.0),\n",
       " (430, 0.052164053095730106),\n",
       " (431, 0.02577696311132335),\n",
       " (432, 0.12598815766974242),\n",
       " (433, 0.033149677206589796),\n",
       " (434, 0.0),\n",
       " (435, 0.03984095364447979),\n",
       " (436, 0.0),\n",
       " (437, 0.028988551782622416),\n",
       " (438, 0.028571428571428567),\n",
       " (439, 0.030860669992418377),\n",
       " (440, 0.028571428571428567),\n",
       " (441, 0.030358837035945812),\n",
       " (442, 0.04829452884162951),\n",
       " (443, 0.05884898863364997),\n",
       " (444, 0.0),\n",
       " (445, 0.028571428571428567),\n",
       " (446, 0.02577696311132335),\n",
       " (447, 0.023904572186687872),\n",
       " (448, 0.02577696311132335),\n",
       " (449, 0.05884898863364997),\n",
       " (450, 0.026398183867422733),\n",
       " (451, 0.026082026547865053),\n",
       " (452, 0.03194382824999699),\n",
       " (453, 0.02672612419124244),\n",
       " (454, 0.1246111965698067),\n",
       " (455, 0.024655683636076894),\n",
       " (456, 0.0703210846407743),\n",
       " (457, 0.08827348295047496),\n",
       " (458, 0.04733810683311508),\n",
       " (459, 0.036037498507822355),\n",
       " (460, 0.028571428571428567),\n",
       " (461, 0.18018749253911176),\n",
       " (462, 0.0),\n",
       " (463, 0.035245368842512066),\n",
       " (464, 0.0),\n",
       " (465, 0.0),\n",
       " (466, 0.2114722130550724),\n",
       " (467, 0.09200874124564722),\n",
       " (468, 0.030358837035945812),\n",
       " (469, 0.0703210846407743),\n",
       " (470, 0.04931136727215379),\n",
       " (471, 0.08336550215650926),\n",
       " (472, 0.08451542547285165),\n",
       " (473, 0.1019294382875251),\n",
       " (474, 0.0),\n",
       " (475, 0.06837634587578276),\n",
       " (476, 0.10811249552346706),\n",
       " (477, 0.0),\n",
       " (478, 0.04040610178208843),\n",
       " (479, 0.09508728264112047),\n",
       " (480, 0.052164053095730106),\n",
       " (481, 0.0),\n",
       " (482, 0.030358837035945812),\n",
       " (483, 0.1301200097264711),\n",
       " (484, 0.03450327796711771),\n",
       " (485, 0.057142857142857134),\n",
       " (486, 0.05855400437691198),\n",
       " (487, 0.14098147537004826),\n",
       " (488, 0.07655590023509526),\n",
       " (489, 0.0),\n",
       " (490, 0.15118578920369088),\n",
       " (491, 0.09116846116771035),\n",
       " (492, 0.06277648205743444),\n",
       " (493, 0.01951800145897066),\n",
       " (494, 0.0),\n",
       " (495, 0.2162249910469341),\n",
       " (496, 0.0),\n",
       " (497, 0.0),\n",
       " (498, 0.07207499701564471),\n",
       " (499, 0.0),\n",
       " (500, 0.027788500718836418),\n",
       " (501, 0.0880237696271323),\n",
       " (502, 0.15289415743128765),\n",
       " (503, 0.08451542547285165),\n",
       " (504, 0.0),\n",
       " (505, 0.14754222271266348),\n",
       " (506, 0.036037498507822355),\n",
       " (507, 0.25302403842552984),\n",
       " (508, 0.11595420713048966),\n",
       " (509, 0.02577696311132335),\n",
       " (510, 0.10559273546969093),\n",
       " (511, 0.09583148474999097),\n",
       " (512, 0.060717674071891624),\n",
       " (513, 0.11769797726729994),\n",
       " (514, 0.059761430466719674),\n",
       " (515, 0.027066598098038335),\n",
       " (516, 0.026082026547865053),\n",
       " (517, 0.0),\n",
       " (518, 0.05484084971070818),\n",
       " (519, 0.0),\n",
       " (520, 0.0),\n",
       " (521, 0.028988551782622416),\n",
       " (522, 0.0),\n",
       " (523, 0.052164053095730106),\n",
       " (524, 0.0),\n",
       " (525, 0.02492223931396134),\n",
       " (526, 0.0),\n",
       " (527, 0.0),\n",
       " (528, 0.02519763153394848),\n",
       " (529, 0.13041013273932528),\n",
       " (530, 0.10141851056742199),\n",
       " (531, 0.05039526306789696),\n",
       " (532, 0.023218173010628604),\n",
       " (533, 0.07049073768502413),\n",
       " (534, 0.08451542547285165),\n",
       " (535, 0.10968169942141635),\n",
       " (536, 0.07644707871564382),\n",
       " (537, 0.07049073768502413),\n",
       " (538, 0.0),\n",
       " (539, 0.26089696604360174),\n",
       " (540, 0.0563436169819011),\n",
       " (541, 0.06965451903188581),\n",
       " (542, 0.04040610178208843),\n",
       " (543, 0.08827348295047496),\n",
       " (544, 0.060717674071891624),\n",
       " (545, 0.028571428571428567),\n",
       " (546, 0.06629935441317959),\n",
       " (547, 0.08827348295047496),\n",
       " (548, 0.0),\n",
       " (549, 0.12461119656980668),\n",
       " (550, 0.028571428571428567),\n",
       " (551, 0.0447773662839645),\n",
       " (552, 0.0),\n",
       " (553, 0.03253000243161777),\n",
       " (554, 0.0),\n",
       " (555, 0.0497245158098847),\n",
       " (556, 0.028988551782622416),\n",
       " (557, 0.1449427589131121),\n",
       " (558, 0.0),\n",
       " (559, 0.03253000243161777),\n",
       " (560, 0.04643634602125721),\n",
       " (561, 0.03688555567816587),\n",
       " (562, 0.0),\n",
       " (563, 0.02742042485535409),\n",
       " (564, 0.0994490316197694),\n",
       " (565, 0.04600437062282361),\n",
       " (566, 0.024655683636076894),\n",
       " (567, 0.030358837035945812),\n",
       " (568, 0.1449427589131121),\n",
       " (569, 0.024397501823713332),\n",
       " (570, 0.07559289460184544),\n",
       " (571, 0.021821789023599235),\n",
       " (572, 0.08656873106996099),\n",
       " (573, 0.02258769757263128),\n",
       " (574, 0.024397501823713332),\n",
       " (575, 0.057142857142857134),\n",
       " (576, 0.028988551782622416),\n",
       " (577, 0.15430334996209188),\n",
       " (578, 0.04829452884162951),\n",
       " (579, 0.12344267996967351),\n",
       " (580, 0.02519763153394848),\n",
       " (581, 0.16574838603294897),\n",
       " (582, 0.24397501823713333),\n",
       " (583, 0.052164053095730106),\n",
       " (584, 0.05096471914376255),\n",
       " (585, 0.0),\n",
       " (586, 0.045584230583855176),\n",
       " (587, 0.07824607964359516),\n",
       " (588, 0.028988551782622416),\n",
       " (589, 0.09862273454430757),\n",
       " (590, 0.035245368842512066),\n",
       " (591, 0.07733088933397005),\n",
       " (592, 0.027066598098038335),\n",
       " (593, 0.0),\n",
       " (594, 0.05484084971070818),\n",
       " (595, 0.13533299049019168),\n",
       " (596, 0.09658905768325902),\n",
       " (597, 0.05797710356524483),\n",
       " (598, 0.03984095364447979),\n",
       " (599, 0.03363839659676322),\n",
       " (600, 0.07244179326244427),\n",
       " (601, 0.03688555567816587),\n",
       " (602, 0.04517539514526256),\n",
       " (603, 0.05797710356524483),\n",
       " (604, 0.07049073768502413),\n",
       " (605, 0.0),\n",
       " (606, 0.0),\n",
       " (607, 0.06492654830247076),\n",
       " (608, 0.0),\n",
       " (609, 0.047809144373375745),\n",
       " (610, 0.06060915267313264),\n",
       " (611, 0.02492223931396134),\n",
       " (612, 0.07100716024967263),\n",
       " (613, 0.03877833671647406),\n",
       " (614, 0.059761430466719674),\n",
       " (615, 0.033149677206589796),\n",
       " (616, 0.0),\n",
       " (617, 0.055577001437672836),\n",
       " (618, 0.09862273454430757),\n",
       " (619, 0.0),\n",
       " (620, 0.0),\n",
       " (621, 0.07049073768502413),\n",
       " (622, 0.02238868314198225),\n",
       " (623, 0.0),\n",
       " (624, 0.12298800925361816),\n",
       " (625, 0.03194382824999699),\n",
       " (626, 0.09258200997725513),\n",
       " (627, 0.11633501014942217),\n",
       " (628, 0.0),\n",
       " (629, 0.04984447862792268),\n",
       " (630, 0.02577696311132335),\n",
       " (631, 0.02742042485535409),\n",
       " (632, 0.08336550215650926),\n",
       " (633, 0.023904572186687872),\n",
       " (634, 0.08696565534786725),\n",
       " (635, 0.07559289460184544),\n",
       " (636, 0.028571428571428567),\n",
       " (637, 0.052796367734845466),\n",
       " (638, 0.036037498507822355),\n",
       " (639, 0.0),\n",
       " (640, 0.0515539262226467),\n",
       " (641, 0.0),\n",
       " (642, 0.0),\n",
       " (643, 0.10690449676496976),\n",
       " (644, 0.05797710356524483),\n",
       " (645, 0.047809144373375745),\n",
       " (646, 0.055577001437672836),\n",
       " (647, 0.052796367734845466),\n",
       " (648, 0.03253000243161777),\n",
       " (649, 0.0),\n",
       " (650, 0.0),\n",
       " (651, 0.0),\n",
       " (652, 0.024655683636076894),\n",
       " (653, 0.12298800925361816),\n",
       " (654, 0.089554732567929),\n",
       " (655, 0.026082026547865053),\n",
       " (656, 0.0),\n",
       " (657, 0.037332669647327864),\n",
       " (658, 0.05345224838248488),\n",
       " (659, 0.027066598098038335),\n",
       " (660, 0.10350983390135313),\n",
       " (661, 0.17036708399998393),\n",
       " (662, 0.0),\n",
       " (663, 0.0),\n",
       " (664, 0.06506000486323554),\n",
       " (665, 0.0791945516022682),\n",
       " (666, 0.052164053095730106),\n",
       " (667, 0.0),\n",
       " (668, 0.07049073768502413),\n",
       " (669, 0.036037498507822355),\n",
       " (670, 0.017817416127494958),\n",
       " (671, 0.05413319619607667),\n",
       " (672, 0.05884898863364997),\n",
       " (673, 0.023002185311411804),\n",
       " (674, 0.07396705090823068),\n",
       " (675, 0.0515539262226467),\n",
       " (676, 0.033149677206589796),\n",
       " (677, 0.027788500718836418),\n",
       " (678, 0.06277648205743444),\n",
       " (679, 0.0),\n",
       " (680, 0.08451542547285165),\n",
       " (681, 0.035245368842512066),\n",
       " (682, 0.024147264420814756),\n",
       " (683, 0.0515539262226467),\n",
       " (684, 0.0),\n",
       " (685, 0.03779644730092272),\n",
       " (686, 0.0),\n",
       " (687, 0.11595420713048966),\n",
       " (688, 0.05096471914376255),\n",
       " (689, 0.0),\n",
       " (690, 0.028988551782622416),\n",
       " (691, 0.10141851056742199),\n",
       " (692, 0.12073632210407378),\n",
       " (693, 0.0),\n",
       " (694, 0.022792115291927588),\n",
       " (695, 0.06900655593423542),\n",
       " (696, 0.0),\n",
       " (697, 0.0),\n",
       " (698, 0.02366905341655754),\n",
       " (699, 0.0),\n",
       " (700, 0.030860669992418377),\n",
       " (701, 0.06506000486323554),\n",
       " (702, 0.024397501823713332),\n",
       " (703, 0.020965696734438367),\n",
       " (704, 0.07396705090823068),\n",
       " (705, 0.025482359571881275),\n",
       " (706, 0.026082026547865053),\n",
       " (707, 0.0),\n",
       " (708, 0.025482359571881275),\n",
       " (709, 0.0),\n",
       " (710, 0.0447773662839645),\n",
       " (711, 0.06629935441317959),\n",
       " (712, 0.0),\n",
       " (713, 0.02742042485535409),\n",
       " (714, 0.0),\n",
       " (715, 0.1057361065275362),\n",
       " (716, 0.035245368842512066),\n",
       " (717, 0.0),\n",
       " (718, 0.04643634602125721),\n",
       " (719, 0.0),\n",
       " (720, 0.02742042485535409),\n",
       " (721, 0.033149677206589796),\n",
       " (722, 0.0),\n",
       " (723, 0.02672612419124244),\n",
       " (724, 0.02577696311132335),\n",
       " (725, 0.0),\n",
       " (726, 0.0),\n",
       " (727, 0.036454130828824455),\n",
       " (728, 0.07559289460184544),\n",
       " (729, 0.0),\n",
       " (730, 0.019138975058773815),\n",
       " (731, 0.05484084971070818),\n",
       " (732, 0.0791945516022682),\n",
       " (733, 0.0447773662839645),\n",
       " (734, 0.05039526306789696),\n",
       " (735, 0.04984447862792268),\n",
       " (736, 0.033149677206589796),\n",
       " (737, 0.08017837257372731),\n",
       " (738, 0.0),\n",
       " (739, 0.03877833671647406),\n",
       " (740, 0.13199091933711365),\n",
       " (741, 0.05884898863364997),\n",
       " (742, 0.03450327796711771),\n",
       " (743, 0.02577696311132335),\n",
       " (744, 0.06761234037828133),\n",
       " (745, 0.06277648205743444),\n",
       " (746, 0.08696565534786725),\n",
       " (747, 0.024147264420814756),\n",
       " (748, 0.03779644730092272),\n",
       " (749, 0.0),\n",
       " (750, 0.0515539262226467),\n",
       " (751, 0.03779644730092272),\n",
       " (752, 0.08451542547285165),\n",
       " (753, 0.029424494316824985),\n",
       " (754, 0.10826639239215334),\n",
       " (755, 0.06388765649999398),\n",
       " (756, 0.030358837035945812),\n",
       " (757, 0.027788500718836418),\n",
       " (758, 0.02577696311132335),\n",
       " (759, 0.0),\n",
       " (760, 0.0),\n",
       " (761, 0.029880715233359837),\n",
       " (762, 0.03253000243161777),\n",
       " (763, 0.0),\n",
       " (764, 0.03138824102871722),\n",
       " (765, 0.0),\n",
       " (766, 0.0),\n",
       " (767, 0.05039526306789696),\n",
       " (768, 0.0654653670707977),\n",
       " (769, 0.033149677206589796),\n",
       " (770, 0.04931136727215379),\n",
       " (771, 0.0),\n",
       " (772, 0.0),\n",
       " (773, 0.11065666703449761),\n",
       " (774, 0.04517539514526256),\n",
       " (775, 0.09258200997725513),\n",
       " (776, 0.08451542547285165),\n",
       " (777, 0.11501092655705902),\n",
       " (778, 0.13041013273932528),\n",
       " (779, 0.0),\n",
       " (780, 0.0),\n",
       " (781, 0.10350983390135313),\n",
       " (782, 0.07559289460184544),\n",
       " (783, 0.035245368842512066),\n",
       " (784, 0.07733088933397005),\n",
       " (785, 0.09960238411119947),\n",
       " (786, 0.09107651110783743),\n",
       " (787, 0.08696565534786725),\n",
       " (788, 0.052164053095730106),\n",
       " (789, 0.0),\n",
       " (790, 0.07171371656006362),\n",
       " (791, 0.10141851056742199),\n",
       " (792, 0.05884898863364997),\n",
       " (793, 0.0563436169819011),\n",
       " (794, 0.09583148474999097),\n",
       " (795, 0.02366905341655754),\n",
       " (796, 0.03877833671647406),\n",
       " (797, 0.0),\n",
       " (798, 0.0),\n",
       " (799, 0.09390602830316849),\n",
       " (800, 0.07968190728895957),\n",
       " (801, 0.0),\n",
       " (802, 0.0),\n",
       " (803, 0.05096471914376255),\n",
       " (804, 0.052796367734845466),\n",
       " (805, 0.05884898863364997),\n",
       " (806, 0.04931136727215379),\n",
       " (807, 0.05413319619607667),\n",
       " (808, 0.11952286093343936),\n",
       " (809, 0.022792115291927588),\n",
       " (810, 0.028988551782622416),\n",
       " (811, 0.023002185311411804),\n",
       " (812, 0.09116846116771035),\n",
       " (813, 0.1019294382875251),\n",
       " (814, 0.08964214570007951),\n",
       " (815, 0.02344036154692477),\n",
       " (816, 0.04517539514526256),\n",
       " (817, 0.027788500718836418),\n",
       " (818, 0.03194382824999699),\n",
       " (819, 0.0),\n",
       " (820, 0.017917234365811652),\n",
       " (821, 0.018553546269482774),\n",
       " (822, 0.02238868314198225),\n",
       " (823, 0.06277648205743444),\n",
       " (824, 0.0),\n",
       " (825, 0.0),\n",
       " (826, 0.036037498507822355),\n",
       " (827, 0.07559289460184544),\n",
       " (828, 0.027788500718836418),\n",
       " (829, 0.0),\n",
       " (830, 0.030358837035945812),\n",
       " (831, 0.05039526306789696),\n",
       " (832, 0.027788500718836418),\n",
       " (833, 0.05039526306789696),\n",
       " (834, 0.05039526306789696),\n",
       " (835, 0.02742042485535409),\n",
       " (836, 0.06776309271789384),\n",
       " (837, 0.028988551782622416),\n",
       " (838, 0.1690308509457033),\n",
       " (839, 0.0),\n",
       " (840, 0.06277648205743444),\n",
       " (841, 0.026398183867422733),\n",
       " (842, 0.0),\n",
       " (843, 0.061721339984836754),\n",
       " (844, 0.061721339984836754),\n",
       " (845, 0.0),\n",
       " (846, 0.0),\n",
       " (847, 0.060963994247895004),\n",
       " (848, 0.05976143046671968),\n",
       " (849, 0.0),\n",
       " (850, 0.08199200616907877),\n",
       " (851, 0.0),\n",
       " (852, 0.023218173010628604),\n",
       " (853, 0.03253000243161777),\n",
       " (854, 0.11428571428571427),\n",
       " (855, 0.027788500718836418),\n",
       " (856, 0.026082026547865053),\n",
       " (857, 0.0),\n",
       " (858, 0.042257712736425826),\n",
       " (859, 0.11952286093343935),\n",
       " (860, 0.017527682734987296),\n",
       " (861, 0.0447773662839645),\n",
       " (862, 0.028988551782622416),\n",
       " (863, 0.03253000243161777),\n",
       " (864, 0.0447773662839645),\n",
       " (865, 0.0),\n",
       " (866, 0.042257712736425826),\n",
       " (867, 0.0),\n",
       " (868, 0.02492223931396134),\n",
       " (869, 0.03138824102871722),\n",
       " (870, 0.1031078524452934),\n",
       " (871, 0.029424494316824985),\n",
       " (872, 0.0),\n",
       " (873, 0.04600437062282361),\n",
       " (874, 0.02742042485535409),\n",
       " (875, 0.055577001437672836),\n",
       " (876, 0.0),\n",
       " (877, 0.0),\n",
       " (878, 0.036037498507822355),\n",
       " (879, 0.0),\n",
       " (880, 0.033149677206589796),\n",
       " (881, 0.0),\n",
       " (882, 0.029424494316824985),\n",
       " (883, 0.029424494316824985),\n",
       " (884, 0.0),\n",
       " (885, 0.08336550215650926),\n",
       " (886, 0.023218173010628604),\n",
       " (887, 0.05778855963970646),\n",
       " (888, 0.04984447862792268),\n",
       " (889, 0.07207499701564471),\n",
       " (890, 0.0),\n",
       " (891, 0.04517539514526256),\n",
       " (892, 0.0),\n",
       " (893, 0.020203050891044214),\n",
       " (894, 0.09107651110783743),\n",
       " (895, 0.0),\n",
       " (896, 0.0),\n",
       " (897, 0.05096471914376255),\n",
       " (898, 0.10559273546969093),\n",
       " (899, 0.08827348295047496),\n",
       " (900, 0.11428571428571427),\n",
       " (901, 0.09416472308615166),\n",
       " (902, 0.027788500718836418),\n",
       " (903, 0.03450327796711771),\n",
       " (904, 0.02366905341655754),\n",
       " (905, 0.0),\n",
       " (906, 0.0),\n",
       " (907, 0.024655683636076894),\n",
       " (908, 0.0791945516022682),\n",
       " (909, 0.0),\n",
       " (910, 0.02344036154692477),\n",
       " (911, 0.024655683636076894),\n",
       " (912, 0.033806170189140665),\n",
       " (913, 0.0),\n",
       " (914, 0.036037498507822355),\n",
       " (915, 0.02742042485535409),\n",
       " (916, 0.0),\n",
       " (917, 0.03138824102871722),\n",
       " (918, 0.0),\n",
       " (919, 0.025482359571881275),\n",
       " (920, 0.10350983390135313),\n",
       " (921, 0.0),\n",
       " (922, 0.09583148474999097),\n",
       " (923, 0.0),\n",
       " (924, 0.0),\n",
       " (925, 0.021128856368212913),\n",
       " (926, 0.0),\n",
       " (927, 0.0),\n",
       " (928, 0.0),\n",
       " (929, 0.057142857142857134),\n",
       " (930, 0.02672612419124244),\n",
       " (931, 0.18832944617230335),\n",
       " (932, 0.052164053095730106),\n",
       " (933, 0.1019294382875251),\n",
       " (934, 0.029880715233359837),\n",
       " (935, 0.1057361065275362),\n",
       " (936, 0.0),\n",
       " (937, 0.09107651110783743),\n",
       " (938, 0.0),\n",
       " (939, 0.12777531299998796),\n",
       " (940, 0.0),\n",
       " (941, 0.03253000243161777),\n",
       " (942, 0.21251185925162067),\n",
       " (943, 0.0),\n",
       " (944, 0.0),\n",
       " (945, 0.06761234037828133),\n",
       " (946, 0.02519763153394848),\n",
       " (947, 0.0),\n",
       " (948, 0.0),\n",
       " (949, 0.0),\n",
       " (950, 0.04040610178208843),\n",
       " (951, 0.06900655593423542),\n",
       " (952, 0.026082026547865053),\n",
       " (953, 0.02577696311132335),\n",
       " (954, 0.0),\n",
       " (955, 0.028571428571428567),\n",
       " (956, 0.05484084971070818),\n",
       " (957, 0.035245368842512066),\n",
       " (958, 0.0),\n",
       " (959, 0.02672612419124244),\n",
       " (960, 0.09416472308615166),\n",
       " (961, 0.05413319619607667),\n",
       " (962, 0.025482359571881275),\n",
       " (963, 0.05039526306789696),\n",
       " (964, 0.030358837035945812),\n",
       " (965, 0.0),\n",
       " (966, 0.0),\n",
       " (967, 0.03984095364447979),\n",
       " (968, 0.0),\n",
       " (969, 0.04401188481356615),\n",
       " (970, 0.0),\n",
       " (971, 0.033806170189140665),\n",
       " (972, 0.21602468994692864),\n",
       " (973, 0.20291986247835692),\n",
       " (974, 0.02533879584034814),\n",
       " (975, 0.02478788664079178),\n",
       " (976, 0.03253000243161777),\n",
       " (977, 0.0),\n",
       " (978, 0.0),\n",
       " (979, 0.07644707871564382),\n",
       " (980, 0.09416472308615166),\n",
       " (981, 0.04931136727215379),\n",
       " (982, 0.04438967616184752),\n",
       " (983, 0.0),\n",
       " (984, 0.03138824102871722),\n",
       " (985, 0.017074694419062765),\n",
       " (986, 0.0),\n",
       " (987, 0.08451542547285165),\n",
       " (988, 0.10826639239215334),\n",
       " (989, 0.030860669992418377),\n",
       " (990, 0.0),\n",
       " (991, 0.035245368842512066),\n",
       " (992, 0.04733810683311508),\n",
       " (993, 0.033149677206589796),\n",
       " (994, 0.0),\n",
       " (995, 0.03877833671647406),\n",
       " (996, 0.057142857142857134),\n",
       " (997, 0.07476671794188401),\n",
       " (998, 0.06506000486323554),\n",
       " (999, 0.0),\n",
       " ...]"
      ]
     },
     "execution_count": 69,
     "metadata": {},
     "output_type": "execute_result"
    }
   ],
   "source": [
    "list(enumerate(similarity[0])) # similarity of 0 index movie with the 1st index movie is (1, 0.08964214570007951)"
   ]
  },
  {
   "cell_type": "code",
   "execution_count": 70,
   "id": "9cca19a3-342b-4b88-afb5-83761ac23f4d",
   "metadata": {},
   "outputs": [
    {
     "data": {
      "text/plain": [
       "[(539, 0.26089696604360174),\n",
       " (1194, 0.2581988897471611),\n",
       " (507, 0.25302403842552984),\n",
       " (260, 0.25110592822973776),\n",
       " (1216, 0.24944382578492943)]"
      ]
     },
     "execution_count": 70,
     "metadata": {},
     "output_type": "execute_result"
    }
   ],
   "source": [
    "sorted(list(enumerate(similarity[0])), reverse=True, key=lambda x:x[1])[1:6]\n",
    "# We want the sorting done in such a way that the most similar values that is closer to one comes first\n",
    "#for that use key = lamba x:x[1] here we are saying that we want to do sorting on the second values not the first\n",
    "# We will recommend 5 similar movies so what we want is the 2nd most simlar to the 6th most similar since the first similarity will be1 since it is with itself."
   ]
  },
  {
   "cell_type": "code",
   "execution_count": 71,
   "id": "304f0778-3e45-40d9-bdde-77c3ced36b87",
   "metadata": {},
   "outputs": [
    {
     "data": {
      "text/plain": [
       "Index([0], dtype='int64')"
      ]
     },
     "execution_count": 71,
     "metadata": {},
     "output_type": "execute_result"
    }
   ],
   "source": [
    "data[data['title']== 'Avatar'].index"
   ]
  },
  {
   "cell_type": "code",
   "execution_count": 74,
   "id": "e4e18ddb-519e-47ee-b440-c7df9b124a99",
   "metadata": {},
   "outputs": [],
   "source": [
    "def recommend(movie):\n",
    "    movie_index = data[data['title']== movie].index[0]# taking the index part only (if we just wrte index the output will be Index([0], dtype='int64') so we are only taking [0]\n",
    "    distance = similarity[movie_index]\n",
    "    movies_list = sorted(list(enumerate(distance)), reverse=True, key=lambda x:x[1])[1:6]\n",
    "    for i in movies_list:\n",
    "        print(data.iloc[i[0]].title)\n",
    "    return"
   ]
  },
  {
   "cell_type": "code",
   "execution_count": 75,
   "id": "7afabf21-7d6b-4dbd-bf96-e7241211f3e6",
   "metadata": {},
   "outputs": [
    {
     "name": "stdout",
     "output_type": "stream",
     "text": [
      "Titan A.E.\n",
      "Small Soldiers\n",
      "Independence Day\n",
      "Ender's Game\n",
      "Aliens vs Predator: Requiem\n"
     ]
    }
   ],
   "source": [
    "recommend('Avatar')"
   ]
  },
  {
   "cell_type": "code",
   "execution_count": 76,
   "id": "73dcd830-1a56-4e93-8594-1ef60cc9a817",
   "metadata": {},
   "outputs": [
    {
     "name": "stdout",
     "output_type": "stream",
     "text": [
      "The Dark Knight\n",
      "The Dark Knight Rises\n",
      "Batman\n",
      "Batman & Robin\n",
      "Batman\n"
     ]
    }
   ],
   "source": [
    "recommend('Batman Begins')"
   ]
  },
  {
   "cell_type": "code",
   "execution_count": 77,
   "id": "d8987cc1-a26d-4918-9065-efb31aa7a414",
   "metadata": {},
   "outputs": [],
   "source": [
    "import pickle\n",
    "pickle.dump(data,open('movies.pkl','wb'))"
   ]
  },
  {
   "cell_type": "code",
   "execution_count": 78,
   "id": "047ddb74-aceb-48ff-a9f1-006fd9e642c9",
   "metadata": {},
   "outputs": [],
   "source": [
    "pickle.dump(data.to_dict(),open('movie_dict.pkl','wb'))"
   ]
  },
  {
   "cell_type": "code",
   "execution_count": 79,
   "id": "9325af79-1ce0-4b8c-a21d-4b465775d8b1",
   "metadata": {},
   "outputs": [],
   "source": [
    "pickle.dump(similarity,open('similarity.pkl','wb'))"
   ]
  }
 ],
 "metadata": {
  "kernelspec": {
   "display_name": "Python 3 (ipykernel)",
   "language": "python",
   "name": "python3"
  },
  "language_info": {
   "codemirror_mode": {
    "name": "ipython",
    "version": 3
   },
   "file_extension": ".py",
   "mimetype": "text/x-python",
   "name": "python",
   "nbconvert_exporter": "python",
   "pygments_lexer": "ipython3",
   "version": "3.10.7"
  }
 },
 "nbformat": 4,
 "nbformat_minor": 5
}
